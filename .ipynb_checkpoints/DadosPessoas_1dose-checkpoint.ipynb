{
 "cells": [
  {
   "cell_type": "markdown",
   "id": "cb0d9a01",
   "metadata": {},
   "source": [
    "## Importações"
   ]
  },
  {
   "cell_type": "code",
   "execution_count": 1,
   "id": "639b2cf8",
   "metadata": {},
   "outputs": [],
   "source": [
    "# Importação das bibliotecas\n",
    "import pandas as pd\n",
    "import matplotlib as plt"
   ]
  },
  {
   "cell_type": "code",
   "execution_count": 2,
   "id": "c8dcfb76",
   "metadata": {},
   "outputs": [
    {
     "name": "stderr",
     "output_type": "stream",
     "text": [
      "C:\\Users\\Usuário\\AppData\\Local\\Temp\\ipykernel_3888\\3544363823.py:2: DtypeWarning: Columns (7,8) have mixed types. Specify dtype option on import or set low_memory=False.\n",
      "  dados = pd.read_csv(r'C:\\Users\\Usuário\\Documents\\GitHub\\Analise_Dados\\DadosVacinaAM.csv', sep=\";\")\n"
     ]
    }
   ],
   "source": [
    "# Importação do banco de dados CSV\n",
    "dados = pd.read_csv(r'C:\\Users\\Usuário\\Documents\\GitHub\\Analise_Dados\\DadosVacinaAM.csv', sep=\";\")"
   ]
  },
  {
   "cell_type": "code",
   "execution_count": 3,
   "id": "f31c3868",
   "metadata": {},
   "outputs": [
    {
     "name": "stdout",
     "output_type": "stream",
     "text": [
      "<class 'pandas.core.frame.DataFrame'>\n",
      "RangeIndex: 1708357 entries, 0 to 1708356\n",
      "Data columns (total 32 columns):\n",
      " #   Column                                    Dtype  \n",
      "---  ------                                    -----  \n",
      " 0   document_id                               object \n",
      " 1   paciente_id                               object \n",
      " 2   paciente_idade                            float64\n",
      " 3   paciente_dataNascimento                   object \n",
      " 4   paciente_enumSexoBiologico                object \n",
      " 5   paciente_racaCor_codigo                   float64\n",
      " 6   paciente_racaCor_valor                    object \n",
      " 7   paciente_endereco_coIbgeMunicipio         object \n",
      " 8   paciente_endereco_coPais                  object \n",
      " 9   paciente_endereco_nmMunicipio             object \n",
      " 10  paciente_endereco_nmPais                  object \n",
      " 11  paciente_endereco_uf                      object \n",
      " 12  paciente_endereco_cep                     object \n",
      " 13  paciente_nacionalidade_enumNacionalidade  object \n",
      " 14  estabelecimento_valor                     int64  \n",
      " 15  estabelecimento_razaoSocial               object \n",
      " 16  estalecimento_noFantasia                  object \n",
      " 17  estabelecimento_municipio_codigo          int64  \n",
      " 18  estabelecimento_municipio_nome            object \n",
      " 19  estabelecimento_uf                        object \n",
      " 20  vacina_grupoAtendimento_codigo            float64\n",
      " 21  vacina_grupoAtendimento_nome              object \n",
      " 22  vacina_categoria_codigo                   float64\n",
      " 23  vacina_categoria_nome                     object \n",
      " 24  vacina_lote                               object \n",
      " 25  vacina_fabricante_nome                    object \n",
      " 26  vacina_fabricante_referencia              object \n",
      " 27  vacina_dataAplicacao                      object \n",
      " 28  vacina_descricao_dose                     object \n",
      " 29  vacina_codigo                             int64  \n",
      " 30  vacina_nome                               object \n",
      " 31  sistema_origem                            object \n",
      "dtypes: float64(4), int64(3), object(25)\n",
      "memory usage: 417.1+ MB\n"
     ]
    }
   ],
   "source": [
    "# Listagem das colunas para consulta\n",
    "dados.info()"
   ]
  },
  {
   "cell_type": "markdown",
   "id": "81db01fa",
   "metadata": {},
   "source": [
    "## Tratamento dos dados"
   ]
  },
  {
   "cell_type": "code",
   "execution_count": 4,
   "id": "eb6e0be6",
   "metadata": {
    "scrolled": true
   },
   "outputs": [
    {
     "data": {
      "text/html": [
       "<div>\n",
       "<style scoped>\n",
       "    .dataframe tbody tr th:only-of-type {\n",
       "        vertical-align: middle;\n",
       "    }\n",
       "\n",
       "    .dataframe tbody tr th {\n",
       "        vertical-align: top;\n",
       "    }\n",
       "\n",
       "    .dataframe thead th {\n",
       "        text-align: right;\n",
       "    }\n",
       "</style>\n",
       "<table border=\"1\" class=\"dataframe\">\n",
       "  <thead>\n",
       "    <tr style=\"text-align: right;\">\n",
       "      <th></th>\n",
       "      <th>paciente_idade</th>\n",
       "      <th>paciente_enumSexoBiologico</th>\n",
       "      <th>paciente_racaCor_valor</th>\n",
       "      <th>paciente_endereco_nmMunicipio</th>\n",
       "      <th>vacina_categoria_nome</th>\n",
       "      <th>vacina_fabricante_nome</th>\n",
       "      <th>vacina_dataAplicacao</th>\n",
       "      <th>vacina_descricao_dose</th>\n",
       "    </tr>\n",
       "  </thead>\n",
       "  <tbody>\n",
       "    <tr>\n",
       "      <th>0</th>\n",
       "      <td>29.0</td>\n",
       "      <td>F</td>\n",
       "      <td>AMARELA</td>\n",
       "      <td>MANAUS</td>\n",
       "      <td>Faixa Etária</td>\n",
       "      <td>PFIZER</td>\n",
       "      <td>2021-10-21</td>\n",
       "      <td>1ª Dose</td>\n",
       "    </tr>\n",
       "    <tr>\n",
       "      <th>1</th>\n",
       "      <td>13.0</td>\n",
       "      <td>F</td>\n",
       "      <td>PARDA</td>\n",
       "      <td>MANAUS</td>\n",
       "      <td>Faixa Etária</td>\n",
       "      <td>PFIZER</td>\n",
       "      <td>2021-08-27</td>\n",
       "      <td>1ª Dose</td>\n",
       "    </tr>\n",
       "    <tr>\n",
       "      <th>2</th>\n",
       "      <td>77.0</td>\n",
       "      <td>F</td>\n",
       "      <td>SEM INFORMACAO</td>\n",
       "      <td>MANAUS</td>\n",
       "      <td>Faixa Etária</td>\n",
       "      <td>ASTRAZENECA/FIOCRUZ</td>\n",
       "      <td>2021-02-05</td>\n",
       "      <td>1ª Dose</td>\n",
       "    </tr>\n",
       "    <tr>\n",
       "      <th>3</th>\n",
       "      <td>66.0</td>\n",
       "      <td>M</td>\n",
       "      <td>BRANCA</td>\n",
       "      <td>MANAUS</td>\n",
       "      <td>Faixa Etária</td>\n",
       "      <td>ASTRAZENECA/FIOCRUZ</td>\n",
       "      <td>2021-03-05</td>\n",
       "      <td>1ª Dose</td>\n",
       "    </tr>\n",
       "    <tr>\n",
       "      <th>4</th>\n",
       "      <td>4.0</td>\n",
       "      <td>M</td>\n",
       "      <td>PARDA</td>\n",
       "      <td>MANAUS</td>\n",
       "      <td>NaN</td>\n",
       "      <td>SINOVAC/BUTANTAN</td>\n",
       "      <td>2022-11-19</td>\n",
       "      <td>1ª Dose</td>\n",
       "    </tr>\n",
       "    <tr>\n",
       "      <th>...</th>\n",
       "      <td>...</td>\n",
       "      <td>...</td>\n",
       "      <td>...</td>\n",
       "      <td>...</td>\n",
       "      <td>...</td>\n",
       "      <td>...</td>\n",
       "      <td>...</td>\n",
       "      <td>...</td>\n",
       "    </tr>\n",
       "    <tr>\n",
       "      <th>660864</th>\n",
       "      <td>31.0</td>\n",
       "      <td>M</td>\n",
       "      <td>SEM INFORMACAO</td>\n",
       "      <td>MANAUS</td>\n",
       "      <td>Faixa Etária</td>\n",
       "      <td>ASTRAZENECA/FIOCRUZ</td>\n",
       "      <td>2021-07-21</td>\n",
       "      <td>1ª Dose</td>\n",
       "    </tr>\n",
       "    <tr>\n",
       "      <th>660865</th>\n",
       "      <td>49.0</td>\n",
       "      <td>M</td>\n",
       "      <td>AMARELA</td>\n",
       "      <td>MANAUS</td>\n",
       "      <td>Faixa Etária</td>\n",
       "      <td>ASTRAZENECA/FIOCRUZ</td>\n",
       "      <td>2021-06-13</td>\n",
       "      <td>1ª Dose</td>\n",
       "    </tr>\n",
       "    <tr>\n",
       "      <th>660866</th>\n",
       "      <td>57.0</td>\n",
       "      <td>M</td>\n",
       "      <td>SEM INFORMACAO</td>\n",
       "      <td>MANAUS</td>\n",
       "      <td>Faixa Etária</td>\n",
       "      <td>PFIZER</td>\n",
       "      <td>2021-07-28</td>\n",
       "      <td>1ª Dose</td>\n",
       "    </tr>\n",
       "    <tr>\n",
       "      <th>660867</th>\n",
       "      <td>53.0</td>\n",
       "      <td>M</td>\n",
       "      <td>PARDA</td>\n",
       "      <td>MANAUS</td>\n",
       "      <td>Faixa Etária</td>\n",
       "      <td>ASTRAZENECA/FIOCRUZ</td>\n",
       "      <td>2021-06-09</td>\n",
       "      <td>1ª Dose</td>\n",
       "    </tr>\n",
       "    <tr>\n",
       "      <th>660868</th>\n",
       "      <td>34.0</td>\n",
       "      <td>F</td>\n",
       "      <td>PARDA</td>\n",
       "      <td>JURUA</td>\n",
       "      <td>Faixa Etária</td>\n",
       "      <td>ASTRAZENECA/FIOCRUZ</td>\n",
       "      <td>2021-07-07</td>\n",
       "      <td>1ª Dose</td>\n",
       "    </tr>\n",
       "  </tbody>\n",
       "</table>\n",
       "<p>660869 rows × 8 columns</p>\n",
       "</div>"
      ],
      "text/plain": [
       "        paciente_idade paciente_enumSexoBiologico paciente_racaCor_valor  \\\n",
       "0                 29.0                          F                AMARELA   \n",
       "1                 13.0                          F                  PARDA   \n",
       "2                 77.0                          F         SEM INFORMACAO   \n",
       "3                 66.0                          M                 BRANCA   \n",
       "4                  4.0                          M                  PARDA   \n",
       "...                ...                        ...                    ...   \n",
       "660864            31.0                          M         SEM INFORMACAO   \n",
       "660865            49.0                          M                AMARELA   \n",
       "660866            57.0                          M         SEM INFORMACAO   \n",
       "660867            53.0                          M                  PARDA   \n",
       "660868            34.0                          F                  PARDA   \n",
       "\n",
       "       paciente_endereco_nmMunicipio vacina_categoria_nome  \\\n",
       "0                             MANAUS          Faixa Etária   \n",
       "1                             MANAUS          Faixa Etária   \n",
       "2                             MANAUS          Faixa Etária   \n",
       "3                             MANAUS          Faixa Etária   \n",
       "4                             MANAUS                   NaN   \n",
       "...                              ...                   ...   \n",
       "660864                        MANAUS          Faixa Etária   \n",
       "660865                        MANAUS          Faixa Etária   \n",
       "660866                        MANAUS          Faixa Etária   \n",
       "660867                        MANAUS          Faixa Etária   \n",
       "660868                         JURUA          Faixa Etária   \n",
       "\n",
       "       vacina_fabricante_nome vacina_dataAplicacao vacina_descricao_dose  \n",
       "0                      PFIZER           2021-10-21               1ª Dose  \n",
       "1                      PFIZER           2021-08-27               1ª Dose  \n",
       "2         ASTRAZENECA/FIOCRUZ           2021-02-05               1ª Dose  \n",
       "3         ASTRAZENECA/FIOCRUZ           2021-03-05               1ª Dose  \n",
       "4            SINOVAC/BUTANTAN           2022-11-19               1ª Dose  \n",
       "...                       ...                  ...                   ...  \n",
       "660864    ASTRAZENECA/FIOCRUZ           2021-07-21               1ª Dose  \n",
       "660865    ASTRAZENECA/FIOCRUZ           2021-06-13               1ª Dose  \n",
       "660866                 PFIZER           2021-07-28               1ª Dose  \n",
       "660867    ASTRAZENECA/FIOCRUZ           2021-06-09               1ª Dose  \n",
       "660868    ASTRAZENECA/FIOCRUZ           2021-07-07               1ª Dose  \n",
       "\n",
       "[660869 rows x 8 columns]"
      ]
     },
     "execution_count": 4,
     "metadata": {},
     "output_type": "execute_result"
    }
   ],
   "source": [
    "# Seleção das colunas a serem analisadas neste projeto\n",
    "dados = dados.loc[:, ['paciente_idade','paciente_enumSexoBiologico','paciente_racaCor_valor','paciente_endereco_nmMunicipio','vacina_categoria_nome','vacina_fabricante_nome','vacina_dataAplicacao','vacina_descricao_dose']]\n",
    "\n",
    "# Filtro a partir da 1ª dose\n",
    "dados_1 = dados.loc[(dados['vacina_descricao_dose'] == '1ª Dose') | (dados['vacina_descricao_dose'] == '1ª Dose Revacinação') | (dados['vacina_descricao_dose'] == '1º Reforço')]\n",
    "\n",
    "# Excluindo registros com paciente_idade igual a 221.0\n",
    "dados_1 = dados_1[dados_1['paciente_idade'] != 221.0]\n",
    "\n",
    "# Resetando o índice do dataframe\n",
    "dados_1.reset_index(drop=True, inplace=True)\n",
    "\n",
    "dados_1"
   ]
  },
  {
   "cell_type": "markdown",
   "id": "0412ba45",
   "metadata": {},
   "source": [
    "## Quem são as pessoas vacinadas com a 1ª dose (COVID-19) no estado do Amazonas?"
   ]
  },
  {
   "cell_type": "code",
   "execution_count": 5,
   "id": "b71854a7",
   "metadata": {},
   "outputs": [
    {
     "name": "stdout",
     "output_type": "stream",
     "text": [
      "A média de idade das pessoas é: 32.55 anos.\n"
     ]
    }
   ],
   "source": [
    "# Quantidade de aplicações de 1ª dose da vacina por Idade, em porcentagem\n",
    "idade = dados_1.paciente_idade.value_counts()\n",
    "soma_idades = (idade.index * idade).sum()\n",
    "n_pessoas = idade.sum()\n",
    "media_idade = soma_idades / n_pessoas\n",
    "print(\"A média de idade das pessoas é: {:.2f} anos.\".format(media_idade))\n",
    "\n"
   ]
  },
  {
   "cell_type": "code",
   "execution_count": 6,
   "id": "1ad93674",
   "metadata": {},
   "outputs": [
    {
     "data": {
      "text/html": [
       "<div>\n",
       "<style scoped>\n",
       "    .dataframe tbody tr th:only-of-type {\n",
       "        vertical-align: middle;\n",
       "    }\n",
       "\n",
       "    .dataframe tbody tr th {\n",
       "        vertical-align: top;\n",
       "    }\n",
       "\n",
       "    .dataframe thead th {\n",
       "        text-align: right;\n",
       "    }\n",
       "</style>\n",
       "<table border=\"1\" class=\"dataframe\">\n",
       "  <thead>\n",
       "    <tr style=\"text-align: right;\">\n",
       "      <th></th>\n",
       "      <th>Faixa_Etária</th>\n",
       "      <th>Porcentagem</th>\n",
       "    </tr>\n",
       "  </thead>\n",
       "  <tbody>\n",
       "    <tr>\n",
       "      <th>0</th>\n",
       "      <td>0-11</td>\n",
       "      <td>12.420610</td>\n",
       "    </tr>\n",
       "    <tr>\n",
       "      <th>1</th>\n",
       "      <td>12-17</td>\n",
       "      <td>12.767233</td>\n",
       "    </tr>\n",
       "    <tr>\n",
       "      <th>2</th>\n",
       "      <td>18-29</td>\n",
       "      <td>23.954228</td>\n",
       "    </tr>\n",
       "    <tr>\n",
       "      <th>3</th>\n",
       "      <td>30-39</td>\n",
       "      <td>17.200073</td>\n",
       "    </tr>\n",
       "    <tr>\n",
       "      <th>4</th>\n",
       "      <td>40-49</td>\n",
       "      <td>14.338692</td>\n",
       "    </tr>\n",
       "    <tr>\n",
       "      <th>5</th>\n",
       "      <td>50-59</td>\n",
       "      <td>9.503981</td>\n",
       "    </tr>\n",
       "    <tr>\n",
       "      <th>6</th>\n",
       "      <td>60-69</td>\n",
       "      <td>5.980081</td>\n",
       "    </tr>\n",
       "    <tr>\n",
       "      <th>7</th>\n",
       "      <td>70-79</td>\n",
       "      <td>2.668241</td>\n",
       "    </tr>\n",
       "    <tr>\n",
       "      <th>8</th>\n",
       "      <td>80-89</td>\n",
       "      <td>0.975691</td>\n",
       "    </tr>\n",
       "    <tr>\n",
       "      <th>9</th>\n",
       "      <td>90-99</td>\n",
       "      <td>0.191172</td>\n",
       "    </tr>\n",
       "  </tbody>\n",
       "</table>\n",
       "</div>"
      ],
      "text/plain": [
       "  Faixa_Etária  Porcentagem\n",
       "0         0-11    12.420610\n",
       "1        12-17    12.767233\n",
       "2        18-29    23.954228\n",
       "3        30-39    17.200073\n",
       "4        40-49    14.338692\n",
       "5        50-59     9.503981\n",
       "6        60-69     5.980081\n",
       "7        70-79     2.668241\n",
       "8        80-89     0.975691\n",
       "9        90-99     0.191172"
      ]
     },
     "execution_count": 6,
     "metadata": {},
     "output_type": "execute_result"
    }
   ],
   "source": [
    "# Criando faixas etárias\n",
    "faixas_etarias = [(0, 11), (12, 17), (18, 29), (30, 39), (40, 49), (50, 59), (60, 69), (70, 79), (80, 89), (90, 99)]\n",
    "\n",
    "# Contagem de pacientes em cada faixa etária\n",
    "pacientes_por_faixa = []\n",
    "\n",
    "for faixa in faixas_etarias:\n",
    "    pacientes_por_faixa.append(((dados_1['paciente_idade'] >= faixa[0]) & (dados_1['paciente_idade'] <= faixa[1])).sum())\n",
    "\n",
    "# Criando um dataframe com a contagem de pacientes por faixa etária\n",
    "df_pacientes_por_faixa = pd.DataFrame({'Faixa_Etária': [f'{faixa[0]}-{faixa[1]}' for faixa in faixas_etarias], 'pacientes': pacientes_por_faixa})\n",
    "\n",
    "# Quantidade de aplicações de 2ª dose da vacina por faixa etária, em porcentagem\n",
    "tt_pacientes = df_pacientes_por_faixa['pacientes'].sum()\n",
    "porcent_p = (df_pacientes_por_faixa['pacientes'] / tt_pacientes) * 100\n",
    "for faixa in faixas_etarias:\n",
    "    df_porcent_p = pd.DataFrame({'Faixa_Etária': [f'{faixa[0]}-{faixa[1]}' for faixa in faixas_etarias], 'Porcentagem': porcent_p})\n",
    "\n",
    "# exibir DataFrame com as porcentagens\n",
    "df_porcent_p"
   ]
  },
  {
   "cell_type": "code",
   "execution_count": 7,
   "id": "c04333fa",
   "metadata": {},
   "outputs": [
    {
     "data": {
      "text/plain": [
       "<Axes: xlabel='Faixa_Etária', ylabel='Porcentagem'>"
      ]
     },
     "execution_count": 7,
     "metadata": {},
     "output_type": "execute_result"
    },
    {
     "data": {
      "image/png": "[encoded data removed]",
      "text/plain": [
       "<Figure size 640x480 with 1 Axes>"
      ]
     },
     "metadata": {},
     "output_type": "display_data"
    }
   ],
   "source": [
    "porcent_p.plot(xlabel='Faixa_Etária', ylabel='Porcentagem', color='green')"
   ]
  },
  {
   "cell_type": "code",
   "execution_count": null,
   "id": "03e3e6a2",
   "metadata": {},
   "outputs": [],
   "source": [
    "# Quantidade de aplicações de 1ª dose da vacina por Raça, em porcentagem\n",
    "raça = dados_1.paciente_racaCor_valor.value_counts(normalize=True)\n",
    "tt_raça = raça.sum()\n",
    "porcent_raça = (raça/tt_raça)*100\n",
    "porcent_raça.plot(kind='bar', title='Vacinas 1ª dose por Raça, em porcentagem', ylabel='')"
   ]
  },
  {
   "cell_type": "code",
   "execution_count": null,
   "id": "42d61b16",
   "metadata": {},
   "outputs": [],
   "source": [
    "# Quantidade de aplicações de 1ª dose da vacina por sexo, em porcentagem\n",
    "sexo = dados_1.paciente_enumSexoBiologico.value_counts(normalize=True)\n",
    "sexo*100"
   ]
  },
  {
   "cell_type": "code",
   "execution_count": null,
   "id": "9f6faf43",
   "metadata": {},
   "outputs": [],
   "source": [
    "# Quantidade de aplicações de 1ª dose da vacina por Município, em porcentagem\n",
    "tt_munic = dados_1.paciente_endereco_nmMunicipio.value_counts()\n",
    "tt_pac = tt_munic.sum()\n",
    "porcent_munic = (tt_munic/tt_pac)*100\n",
    "porcent_munic.head()"
   ]
  },
  {
   "cell_type": "code",
   "execution_count": null,
   "id": "cb57898b",
   "metadata": {},
   "outputs": [],
   "source": [
    "# Quantidade total de aplicação da 1ª dose da vacina por população de risco, em porcentagem\n",
    "pop_risco = dados_1.vacina_categoria_nome.value_counts()\n",
    "tt_cat = pop_risco.sum()\n",
    "porcent_pop_risco = (pop_risco/tt_cat)*100\n",
    "porcent_pop_risco = round(porcent_pop_risco, 2)\n",
    "porcent_pop_risco"
   ]
  },
  {
   "cell_type": "markdown",
   "id": "d7637cfc",
   "metadata": {},
   "source": [
    "# Problema\n",
    "Há diferença entre o perfil das pessoas que tomaram a segunda dose no Amazonas? Qual a distância média entre a casa e o local de aplicação? (contabilizar 1 dose e 2 doses e 3 doses)"
   ]
  }
 ],
 "metadata": {
  "kernelspec": {
   "display_name": "Python 3 (ipykernel)",
   "language": "python",
   "name": "python3"
  },
  "language_info": {
   "codemirror_mode": {
    "name": "ipython",
    "version": 3
   },
   "file_extension": ".py",
   "mimetype": "text/x-python",
   "name": "python",
   "nbconvert_exporter": "python",
   "pygments_lexer": "ipython3",
   "version": "3.9.16"
  }
 },
 "nbformat": 4,
 "nbformat_minor": 5
}
