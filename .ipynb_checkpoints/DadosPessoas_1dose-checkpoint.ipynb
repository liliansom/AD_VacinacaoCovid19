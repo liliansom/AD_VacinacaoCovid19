{
 "cells": [
  {
   "cell_type": "markdown",
   "id": "cb0d9a01",
   "metadata": {},
   "source": [
    "## Importações"
   ]
  },
  {
   "cell_type": "code",
   "execution_count": 1,
   "id": "639b2cf8",
   "metadata": {},
   "outputs": [],
   "source": [
    "# Importação das bibliotecas\n",
    "import pandas as pd\n",
    "import matplotlib as plt"
   ]
  },
  {
   "cell_type": "code",
   "execution_count": 2,
   "id": "c8dcfb76",
   "metadata": {},
   "outputs": [
    {
     "name": "stderr",
     "output_type": "stream",
     "text": [
      "C:\\Users\\Usuário\\AppData\\Local\\Temp\\ipykernel_9128\\3544363823.py:2: DtypeWarning: Columns (7,8) have mixed types. Specify dtype option on import or set low_memory=False.\n",
      "  dados = pd.read_csv(r'C:\\Users\\Usuário\\Documents\\GitHub\\Analise_Dados\\DadosVacinaAM.csv', sep=\";\")\n"
     ]
    }
   ],
   "source": [
    "# Importação do banco de dados CSV\n",
    "dados = pd.read_csv(r'C:\\Users\\Usuário\\Documents\\GitHub\\Analise_Dados\\DadosVacinaAM.csv', sep=\";\")"
   ]
  },
  {
   "cell_type": "code",
   "execution_count": 3,
   "id": "f31c3868",
   "metadata": {},
   "outputs": [
    {
     "name": "stdout",
     "output_type": "stream",
     "text": [
      "<class 'pandas.core.frame.DataFrame'>\n",
      "RangeIndex: 1708357 entries, 0 to 1708356\n",
      "Data columns (total 32 columns):\n",
      " #   Column                                    Dtype  \n",
      "---  ------                                    -----  \n",
      " 0   document_id                               object \n",
      " 1   paciente_id                               object \n",
      " 2   paciente_idade                            float64\n",
      " 3   paciente_dataNascimento                   object \n",
      " 4   paciente_enumSexoBiologico                object \n",
      " 5   paciente_racaCor_codigo                   float64\n",
      " 6   paciente_racaCor_valor                    object \n",
      " 7   paciente_endereco_coIbgeMunicipio         object \n",
      " 8   paciente_endereco_coPais                  object \n",
      " 9   paciente_endereco_nmMunicipio             object \n",
      " 10  paciente_endereco_nmPais                  object \n",
      " 11  paciente_endereco_uf                      object \n",
      " 12  paciente_endereco_cep                     object \n",
      " 13  paciente_nacionalidade_enumNacionalidade  object \n",
      " 14  estabelecimento_valor                     int64  \n",
      " 15  estabelecimento_razaoSocial               object \n",
      " 16  estalecimento_noFantasia                  object \n",
      " 17  estabelecimento_municipio_codigo          int64  \n",
      " 18  estabelecimento_municipio_nome            object \n",
      " 19  estabelecimento_uf                        object \n",
      " 20  vacina_grupoAtendimento_codigo            float64\n",
      " 21  vacina_grupoAtendimento_nome              object \n",
      " 22  vacina_categoria_codigo                   float64\n",
      " 23  vacina_categoria_nome                     object \n",
      " 24  vacina_lote                               object \n",
      " 25  vacina_fabricante_nome                    object \n",
      " 26  vacina_fabricante_referencia              object \n",
      " 27  vacina_dataAplicacao                      object \n",
      " 28  vacina_descricao_dose                     object \n",
      " 29  vacina_codigo                             int64  \n",
      " 30  vacina_nome                               object \n",
      " 31  sistema_origem                            object \n",
      "dtypes: float64(4), int64(3), object(25)\n",
      "memory usage: 417.1+ MB\n"
     ]
    }
   ],
   "source": [
    "# Listagem das colunas para consulta\n",
    "dados.info()"
   ]
  },
  {
   "cell_type": "markdown",
   "id": "81db01fa",
   "metadata": {},
   "source": [
    "## Tratamento dos dados"
   ]
  },
  {
   "cell_type": "code",
   "execution_count": 4,
   "id": "eb6e0be6",
   "metadata": {
    "scrolled": true
   },
   "outputs": [
    {
     "name": "stderr",
     "output_type": "stream",
     "text": [
      "C:\\Users\\Usuário\\AppData\\Local\\Temp\\ipykernel_9128\\2206176579.py:8: SettingWithCopyWarning: \n",
      "A value is trying to be set on a copy of a slice from a DataFrame\n",
      "\n",
      "See the caveats in the documentation: https://pandas.pydata.org/pandas-docs/stable/user_guide/indexing.html#returning-a-view-versus-a-copy\n",
      "  dados_1.drop_duplicates(inplace=True)\n"
     ]
    },
    {
     "data": {
      "text/html": [
       "<div>\n",
       "<style scoped>\n",
       "    .dataframe tbody tr th:only-of-type {\n",
       "        vertical-align: middle;\n",
       "    }\n",
       "\n",
       "    .dataframe tbody tr th {\n",
       "        vertical-align: top;\n",
       "    }\n",
       "\n",
       "    .dataframe thead th {\n",
       "        text-align: right;\n",
       "    }\n",
       "</style>\n",
       "<table border=\"1\" class=\"dataframe\">\n",
       "  <thead>\n",
       "    <tr style=\"text-align: right;\">\n",
       "      <th></th>\n",
       "      <th>paciente_idade</th>\n",
       "      <th>paciente_enumSexoBiologico</th>\n",
       "      <th>paciente_racaCor_valor</th>\n",
       "      <th>paciente_endereco_nmMunicipio</th>\n",
       "      <th>vacina_categoria_nome</th>\n",
       "      <th>vacina_fabricante_nome</th>\n",
       "      <th>vacina_dataAplicacao</th>\n",
       "      <th>vacina_descricao_dose</th>\n",
       "    </tr>\n",
       "  </thead>\n",
       "  <tbody>\n",
       "    <tr>\n",
       "      <th>0</th>\n",
       "      <td>29.0</td>\n",
       "      <td>F</td>\n",
       "      <td>AMARELA</td>\n",
       "      <td>MANAUS</td>\n",
       "      <td>Faixa Etária</td>\n",
       "      <td>PFIZER</td>\n",
       "      <td>2021-10-21</td>\n",
       "      <td>1ª Dose</td>\n",
       "    </tr>\n",
       "    <tr>\n",
       "      <th>1</th>\n",
       "      <td>13.0</td>\n",
       "      <td>F</td>\n",
       "      <td>PARDA</td>\n",
       "      <td>MANAUS</td>\n",
       "      <td>Faixa Etária</td>\n",
       "      <td>PFIZER</td>\n",
       "      <td>2021-08-27</td>\n",
       "      <td>1ª Dose</td>\n",
       "    </tr>\n",
       "    <tr>\n",
       "      <th>2</th>\n",
       "      <td>77.0</td>\n",
       "      <td>F</td>\n",
       "      <td>SEM INFORMACAO</td>\n",
       "      <td>MANAUS</td>\n",
       "      <td>Faixa Etária</td>\n",
       "      <td>ASTRAZENECA/FIOCRUZ</td>\n",
       "      <td>2021-02-05</td>\n",
       "      <td>1ª Dose</td>\n",
       "    </tr>\n",
       "    <tr>\n",
       "      <th>3</th>\n",
       "      <td>66.0</td>\n",
       "      <td>M</td>\n",
       "      <td>BRANCA</td>\n",
       "      <td>MANAUS</td>\n",
       "      <td>Faixa Etária</td>\n",
       "      <td>ASTRAZENECA/FIOCRUZ</td>\n",
       "      <td>2021-03-05</td>\n",
       "      <td>1ª Dose</td>\n",
       "    </tr>\n",
       "    <tr>\n",
       "      <th>4</th>\n",
       "      <td>4.0</td>\n",
       "      <td>M</td>\n",
       "      <td>PARDA</td>\n",
       "      <td>MANAUS</td>\n",
       "      <td>NaN</td>\n",
       "      <td>SINOVAC/BUTANTAN</td>\n",
       "      <td>2022-11-19</td>\n",
       "      <td>1ª Dose</td>\n",
       "    </tr>\n",
       "    <tr>\n",
       "      <th>...</th>\n",
       "      <td>...</td>\n",
       "      <td>...</td>\n",
       "      <td>...</td>\n",
       "      <td>...</td>\n",
       "      <td>...</td>\n",
       "      <td>...</td>\n",
       "      <td>...</td>\n",
       "      <td>...</td>\n",
       "    </tr>\n",
       "    <tr>\n",
       "      <th>353195</th>\n",
       "      <td>33.0</td>\n",
       "      <td>M</td>\n",
       "      <td>PARDA</td>\n",
       "      <td>CARAUARI</td>\n",
       "      <td>Faixa Etária</td>\n",
       "      <td>SINOVAC/BUTANTAN</td>\n",
       "      <td>2021-09-13</td>\n",
       "      <td>1ª Dose</td>\n",
       "    </tr>\n",
       "    <tr>\n",
       "      <th>353196</th>\n",
       "      <td>64.0</td>\n",
       "      <td>M</td>\n",
       "      <td>SEM INFORMACAO</td>\n",
       "      <td>PINDAMONHANGABA</td>\n",
       "      <td>Faixa Etária</td>\n",
       "      <td>ASTRAZENECA/FIOCRUZ</td>\n",
       "      <td>2021-03-11</td>\n",
       "      <td>1ª Dose</td>\n",
       "    </tr>\n",
       "    <tr>\n",
       "      <th>353197</th>\n",
       "      <td>14.0</td>\n",
       "      <td>F</td>\n",
       "      <td>AMARELA</td>\n",
       "      <td>ATALAIA DO NORTE</td>\n",
       "      <td>Faixa Etária</td>\n",
       "      <td>PFIZER</td>\n",
       "      <td>2022-01-26</td>\n",
       "      <td>1ª Dose</td>\n",
       "    </tr>\n",
       "    <tr>\n",
       "      <th>353198</th>\n",
       "      <td>33.0</td>\n",
       "      <td>F</td>\n",
       "      <td>INDIGENA</td>\n",
       "      <td>MANAUS</td>\n",
       "      <td>Faixa Etária</td>\n",
       "      <td>PFIZER</td>\n",
       "      <td>2021-11-05</td>\n",
       "      <td>1ª Dose</td>\n",
       "    </tr>\n",
       "    <tr>\n",
       "      <th>353199</th>\n",
       "      <td>34.0</td>\n",
       "      <td>F</td>\n",
       "      <td>PARDA</td>\n",
       "      <td>JURUA</td>\n",
       "      <td>Faixa Etária</td>\n",
       "      <td>ASTRAZENECA/FIOCRUZ</td>\n",
       "      <td>2021-07-07</td>\n",
       "      <td>1ª Dose</td>\n",
       "    </tr>\n",
       "  </tbody>\n",
       "</table>\n",
       "<p>353200 rows × 8 columns</p>\n",
       "</div>"
      ],
      "text/plain": [
       "        paciente_idade paciente_enumSexoBiologico paciente_racaCor_valor  \\\n",
       "0                 29.0                          F                AMARELA   \n",
       "1                 13.0                          F                  PARDA   \n",
       "2                 77.0                          F         SEM INFORMACAO   \n",
       "3                 66.0                          M                 BRANCA   \n",
       "4                  4.0                          M                  PARDA   \n",
       "...                ...                        ...                    ...   \n",
       "353195            33.0                          M                  PARDA   \n",
       "353196            64.0                          M         SEM INFORMACAO   \n",
       "353197            14.0                          F                AMARELA   \n",
       "353198            33.0                          F               INDIGENA   \n",
       "353199            34.0                          F                  PARDA   \n",
       "\n",
       "       paciente_endereco_nmMunicipio vacina_categoria_nome  \\\n",
       "0                             MANAUS          Faixa Etária   \n",
       "1                             MANAUS          Faixa Etária   \n",
       "2                             MANAUS          Faixa Etária   \n",
       "3                             MANAUS          Faixa Etária   \n",
       "4                             MANAUS                   NaN   \n",
       "...                              ...                   ...   \n",
       "353195                      CARAUARI          Faixa Etária   \n",
       "353196               PINDAMONHANGABA          Faixa Etária   \n",
       "353197              ATALAIA DO NORTE          Faixa Etária   \n",
       "353198                        MANAUS          Faixa Etária   \n",
       "353199                         JURUA          Faixa Etária   \n",
       "\n",
       "       vacina_fabricante_nome vacina_dataAplicacao vacina_descricao_dose  \n",
       "0                      PFIZER           2021-10-21               1ª Dose  \n",
       "1                      PFIZER           2021-08-27               1ª Dose  \n",
       "2         ASTRAZENECA/FIOCRUZ           2021-02-05               1ª Dose  \n",
       "3         ASTRAZENECA/FIOCRUZ           2021-03-05               1ª Dose  \n",
       "4            SINOVAC/BUTANTAN           2022-11-19               1ª Dose  \n",
       "...                       ...                  ...                   ...  \n",
       "353195       SINOVAC/BUTANTAN           2021-09-13               1ª Dose  \n",
       "353196    ASTRAZENECA/FIOCRUZ           2021-03-11               1ª Dose  \n",
       "353197                 PFIZER           2022-01-26               1ª Dose  \n",
       "353198                 PFIZER           2021-11-05               1ª Dose  \n",
       "353199    ASTRAZENECA/FIOCRUZ           2021-07-07               1ª Dose  \n",
       "\n",
       "[353200 rows x 8 columns]"
      ]
     },
     "execution_count": 4,
     "metadata": {},
     "output_type": "execute_result"
    }
   ],
   "source": [
    "# Seleção das colunas a serem analisadas neste projeto\n",
    "dados = dados.loc[:, ['paciente_idade','paciente_enumSexoBiologico','paciente_racaCor_valor','paciente_endereco_nmMunicipio','vacina_categoria_nome','vacina_fabricante_nome','vacina_dataAplicacao','vacina_descricao_dose']]\n",
    "\n",
    "# Filtro a partir da 1ª dose\n",
    "dados_1 = dados.loc[(dados['vacina_descricao_dose'] == '1ª Dose') | (dados['vacina_descricao_dose'] == '1ª Dose Revacinação') | (dados['vacina_descricao_dose'] == '1º Reforço')]\n",
    "\n",
    "# Retirando informações duplicadas\n",
    "dados_1.drop_duplicates(inplace=True)\n",
    "\n",
    "# Excluindo registros com paciente_idade igual a 221.0\n",
    "dados_1 = dados_1[dados_1['paciente_idade'] != 221.0]\n",
    "\n",
    "# Resetando o índice do dataframe\n",
    "dados_1.reset_index(drop=True, inplace=True)\n",
    "\n",
    "dados_1"
   ]
  },
  {
   "cell_type": "markdown",
   "id": "0412ba45",
   "metadata": {},
   "source": [
    "## Quem são as pessoas vacinadas com a 1ª dose (COVID-19) no estado do Amazonas?"
   ]
  },
  {
   "cell_type": "code",
   "execution_count": 5,
   "id": "b71854a7",
   "metadata": {},
   "outputs": [
    {
     "name": "stdout",
     "output_type": "stream",
     "text": [
      "A média de idade das pessoas é: 32.72 anos.\n"
     ]
    }
   ],
   "source": [
    "# Quantidade de aplicações de 1ª dose da vacina por Idade, em porcentagem\n",
    "idade = dados_1.paciente_idade.value_counts()\n",
    "soma_idades = (idade.index * idade).sum()\n",
    "n_pessoas = idade.sum()\n",
    "media_idade = soma_idades / n_pessoas\n",
    "print(\"A média de idade das pessoas é: {:.2f} anos.\".format(media_idade))\n",
    "\n"
   ]
  },
  {
   "cell_type": "code",
   "execution_count": 6,
   "id": "44a682fc",
   "metadata": {},
   "outputs": [
    {
     "data": {
      "text/html": [
       "<div>\n",
       "<style scoped>\n",
       "    .dataframe tbody tr th:only-of-type {\n",
       "        vertical-align: middle;\n",
       "    }\n",
       "\n",
       "    .dataframe tbody tr th {\n",
       "        vertical-align: top;\n",
       "    }\n",
       "\n",
       "    .dataframe thead th {\n",
       "        text-align: right;\n",
       "    }\n",
       "</style>\n",
       "<table border=\"1\" class=\"dataframe\">\n",
       "  <thead>\n",
       "    <tr style=\"text-align: right;\">\n",
       "      <th></th>\n",
       "      <th>Porcentagem</th>\n",
       "    </tr>\n",
       "    <tr>\n",
       "      <th>Faixa_Etária</th>\n",
       "      <th></th>\n",
       "    </tr>\n",
       "  </thead>\n",
       "  <tbody>\n",
       "    <tr>\n",
       "      <th>0-11</th>\n",
       "      <td>13.264933</td>\n",
       "    </tr>\n",
       "    <tr>\n",
       "      <th>12-17</th>\n",
       "      <td>10.253781</td>\n",
       "    </tr>\n",
       "    <tr>\n",
       "      <th>18-29</th>\n",
       "      <td>25.075562</td>\n",
       "    </tr>\n",
       "    <tr>\n",
       "      <th>30-39</th>\n",
       "      <td>17.979667</td>\n",
       "    </tr>\n",
       "    <tr>\n",
       "      <th>40-49</th>\n",
       "      <td>14.095479</td>\n",
       "    </tr>\n",
       "    <tr>\n",
       "      <th>50-59</th>\n",
       "      <td>9.902244</td>\n",
       "    </tr>\n",
       "    <tr>\n",
       "      <th>60-69</th>\n",
       "      <td>5.235099</td>\n",
       "    </tr>\n",
       "    <tr>\n",
       "      <th>70-79</th>\n",
       "      <td>2.744029</td>\n",
       "    </tr>\n",
       "    <tr>\n",
       "      <th>80-89</th>\n",
       "      <td>1.152906</td>\n",
       "    </tr>\n",
       "    <tr>\n",
       "      <th>90-99</th>\n",
       "      <td>0.296300</td>\n",
       "    </tr>\n",
       "  </tbody>\n",
       "</table>\n",
       "</div>"
      ],
      "text/plain": [
       "              Porcentagem\n",
       "Faixa_Etária             \n",
       "0-11            13.264933\n",
       "12-17           10.253781\n",
       "18-29           25.075562\n",
       "30-39           17.979667\n",
       "40-49           14.095479\n",
       "50-59            9.902244\n",
       "60-69            5.235099\n",
       "70-79            2.744029\n",
       "80-89            1.152906\n",
       "90-99            0.296300"
      ]
     },
     "execution_count": 6,
     "metadata": {},
     "output_type": "execute_result"
    }
   ],
   "source": [
    "# Criando faixas etárias\n",
    "faixas_etarias = [(0, 11), (12, 17), (18, 29), (30, 39), (40, 49), (50, 59), (60, 69), (70, 79), (80, 89), (90, 99)]\n",
    "\n",
    "# Contagem de pacientes em cada faixa etária\n",
    "pacientes_por_faixa = []\n",
    "\n",
    "for faixa in faixas_etarias:\n",
    "    pacientes_por_faixa.append(((dados_1['paciente_idade'] >= faixa[0]) & (dados_1['paciente_idade'] <= faixa[1])).sum())\n",
    "\n",
    "# Criando um dataframe com a contagem de pacientes por faixa etária\n",
    "df_pacientes_por_faixa = pd.DataFrame({'Faixa_Etária': [f'{faixa[0]}-{faixa[1]}' for faixa in faixas_etarias], 'pacientes': pacientes_por_faixa})\n",
    "df_pacientes_por_faixa.set_index('Faixa_Etária', inplace=True)\n",
    "\n",
    "# Quantidade de aplicações de 2ª dose da vacina por faixa etária, em porcentagem\n",
    "tt_pacientes = df_pacientes_por_faixa['pacientes'].sum()\n",
    "porcent_p = (df_pacientes_por_faixa['pacientes'] / tt_pacientes) * 100\n",
    "df_porcent_p = pd.DataFrame({'Porcentagem': porcent_p})\n",
    "\n",
    "# exibir DataFrame com as porcentagens\n",
    "df_porcent_p\n"
   ]
  },
  {
   "cell_type": "code",
   "execution_count": 7,
   "id": "65149274",
   "metadata": {},
   "outputs": [
    {
     "data": {
      "text/plain": [
       "<Axes: title={'center': 'Vacinas 1ª dose por Faixa Etária, em porcentagem'}, xlabel='Faixa_Etária', ylabel='Porcentagem'>"
      ]
     },
     "execution_count": 7,
     "metadata": {},
     "output_type": "execute_result"
    },
    {
     "data": {
      "image/png": "[encoded data removed]",
      "text/plain": [
       "<Figure size 640x480 with 1 Axes>"
      ]
     },
     "metadata": {},
     "output_type": "display_data"
    }
   ],
   "source": [
    "porcent_p.plot(title='Vacinas 1ª dose por Faixa Etária, em porcentagem', xlabel='Faixa_Etária', ylabel='Porcentagem')"
   ]
  },
  {
   "cell_type": "code",
   "execution_count": 8,
   "id": "03e3e6a2",
   "metadata": {},
   "outputs": [
    {
     "data": {
      "text/plain": [
       "<Axes: title={'center': 'Vacinas 1ª dose por Raça, em porcentagem'}>"
      ]
     },
     "execution_count": 8,
     "metadata": {},
     "output_type": "execute_result"
    },
    {
     "data": {
      "image/png": "[encoded data removed]",
      "text/plain": [
       "<Figure size 640x480 with 1 Axes>"
      ]
     },
     "metadata": {},
     "output_type": "display_data"
    }
   ],
   "source": [
    "# Quantidade de aplicações de 1ª dose da vacina por Raça, em porcentagem\n",
    "raça = dados_1.paciente_racaCor_valor.value_counts(normalize=True)\n",
    "tt_raça = raça.sum()\n",
    "porcent_raça = (raça/tt_raça)*100\n",
    "porcent_raça.plot(kind='bar', title='Vacinas 1ª dose por Raça, em porcentagem', ylabel='')"
   ]
  },
  {
   "cell_type": "code",
   "execution_count": 9,
   "id": "42d61b16",
   "metadata": {},
   "outputs": [
    {
     "data": {
      "text/plain": [
       "M    50.556797\n",
       "F    49.442637\n",
       "I     0.000566\n",
       "Name: paciente_enumSexoBiologico, dtype: float64"
      ]
     },
     "execution_count": 9,
     "metadata": {},
     "output_type": "execute_result"
    }
   ],
   "source": [
    "# Quantidade de aplicações de 1ª dose da vacina por sexo, em porcentagem\n",
    "sexo = dados_1.paciente_enumSexoBiologico.value_counts(normalize=True)\n",
    "sexo*100"
   ]
  },
  {
   "cell_type": "code",
   "execution_count": 10,
   "id": "9f6faf43",
   "metadata": {},
   "outputs": [
    {
     "data": {
      "text/plain": [
       "MANAUS         29.752563\n",
       "ITACOATIARA     3.258777\n",
       "MANACAPURU      3.226261\n",
       "PARINTINS       2.924986\n",
       "COARI           2.792621\n",
       "Name: paciente_endereco_nmMunicipio, dtype: float64"
      ]
     },
     "execution_count": 10,
     "metadata": {},
     "output_type": "execute_result"
    }
   ],
   "source": [
    "# Quantidade de aplicações de 1ª dose da vacina por Município, em porcentagem\n",
    "tt_munic = dados_1.paciente_endereco_nmMunicipio.value_counts()\n",
    "tt_pac = tt_munic.sum()\n",
    "porcent_munic = (tt_munic/tt_pac)*100\n",
    "porcent_munic.head()"
   ]
  },
  {
   "cell_type": "code",
   "execution_count": 11,
   "id": "cb57898b",
   "metadata": {},
   "outputs": [
    {
     "data": {
      "text/plain": [
       "Faixa Etária                                       62.62\n",
       "Povos e Comunidades Tradicionais                   10.12\n",
       "Trabalhadores de Saúde                              7.46\n",
       "Povos Indígenas                                     6.49\n",
       "Comorbidades                                        5.45\n",
       "Trabalhadores da Educação                           2.99\n",
       "Gestantes                                           1.07\n",
       "Forças de Segurança e Salvamento                    0.66\n",
       "Forças Armadas (membros ativos)                     0.61\n",
       "Pessoas com Deficiência                             0.59\n",
       "Trabalhadores de Transporte                         0.46\n",
       "Puérperas                                           0.37\n",
       "População Privada de Liberdade                      0.27\n",
       "Trabalhadores Portuários                            0.22\n",
       "Outros                                              0.22\n",
       "Trabalhadores de Limpeza Urbana                     0.15\n",
       "Funcionário do Sistema de Privação de Liberdade     0.08\n",
       "Pessoas de 60 anos ou mais institucionalizadas      0.07\n",
       "Pessoas em Situação de Rua                          0.04\n",
       "Trabalhadores Industriais                           0.04\n",
       "Name: vacina_categoria_nome, dtype: float64"
      ]
     },
     "execution_count": 11,
     "metadata": {},
     "output_type": "execute_result"
    }
   ],
   "source": [
    "# Quantidade total de aplicação da 1ª dose da vacina por população de risco, em porcentagem\n",
    "pop_risco = dados_1.vacina_categoria_nome.value_counts()\n",
    "tt_cat = pop_risco.sum()\n",
    "porcent_pop_risco = (pop_risco/tt_cat)*100\n",
    "porcent_pop_risco = round(porcent_pop_risco, 2)\n",
    "porcent_pop_risco"
   ]
  },
  {
   "cell_type": "markdown",
   "id": "d7637cfc",
   "metadata": {},
   "source": [
    "# Problema\n",
    "Há diferença entre o perfil das pessoas que tomaram a segunda dose no Amazonas? Qual a distância média entre a casa e o local de aplicação? (contabilizar 1 dose e 2 doses e 3 doses)"
   ]
  }
 ],
 "metadata": {
  "kernelspec": {
   "display_name": "Python 3 (ipykernel)",
   "language": "python",
   "name": "python3"
  },
  "language_info": {
   "codemirror_mode": {
    "name": "ipython",
    "version": 3
   },
   "file_extension": ".py",
   "mimetype": "text/x-python",
   "name": "python",
   "nbconvert_exporter": "python",
   "pygments_lexer": "ipython3",
   "version": "3.9.16"
  }
 },
 "nbformat": 4,
 "nbformat_minor": 5
}
