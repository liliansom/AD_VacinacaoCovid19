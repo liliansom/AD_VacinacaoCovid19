{
 "cells": [
  {
   "cell_type": "markdown",
   "id": "aef97fab",
   "metadata": {},
   "source": [
    "# Importações"
   ]
  },
  {
   "cell_type": "code",
   "execution_count": 1,
   "id": "fb05c125",
   "metadata": {},
   "outputs": [],
   "source": [
    "# Importação das bibliotecas\n",
    "import pandas as pd\n",
    "import matplotlib"
   ]
  },
  {
   "cell_type": "code",
   "execution_count": 2,
   "id": "34d0bf51",
   "metadata": {},
   "outputs": [
    {
     "name": "stderr",
     "output_type": "stream",
     "text": [
      "C:\\Users\\Usuário\\AppData\\Local\\Temp\\ipykernel_3676\\3544363823.py:2: DtypeWarning: Columns (7,8) have mixed types. Specify dtype option on import or set low_memory=False.\n",
      "  dados = pd.read_csv(r'C:\\Users\\Usuário\\Documents\\GitHub\\Analise_Dados\\DadosVacinaAM.csv', sep=\";\")\n"
     ]
    }
   ],
   "source": [
    "# Importação do banco de dados CSV\n",
    "dados = pd.read_csv(r'C:\\Users\\Usuário\\Documents\\GitHub\\Analise_Dados\\DadosVacinaAM.csv', sep=\";\")"
   ]
  },
  {
   "cell_type": "code",
   "execution_count": 3,
   "id": "1af4e595",
   "metadata": {},
   "outputs": [
    {
     "name": "stdout",
     "output_type": "stream",
     "text": [
      "<class 'pandas.core.frame.DataFrame'>\n",
      "RangeIndex: 1708357 entries, 0 to 1708356\n",
      "Data columns (total 32 columns):\n",
      " #   Column                                    Dtype  \n",
      "---  ------                                    -----  \n",
      " 0   document_id                               object \n",
      " 1   paciente_id                               object \n",
      " 2   paciente_idade                            float64\n",
      " 3   paciente_dataNascimento                   object \n",
      " 4   paciente_enumSexoBiologico                object \n",
      " 5   paciente_racaCor_codigo                   float64\n",
      " 6   paciente_racaCor_valor                    object \n",
      " 7   paciente_endereco_coIbgeMunicipio         object \n",
      " 8   paciente_endereco_coPais                  object \n",
      " 9   paciente_endereco_nmMunicipio             object \n",
      " 10  paciente_endereco_nmPais                  object \n",
      " 11  paciente_endereco_uf                      object \n",
      " 12  paciente_endereco_cep                     object \n",
      " 13  paciente_nacionalidade_enumNacionalidade  object \n",
      " 14  estabelecimento_valor                     int64  \n",
      " 15  estabelecimento_razaoSocial               object \n",
      " 16  estalecimento_noFantasia                  object \n",
      " 17  estabelecimento_municipio_codigo          int64  \n",
      " 18  estabelecimento_municipio_nome            object \n",
      " 19  estabelecimento_uf                        object \n",
      " 20  vacina_grupoAtendimento_codigo            float64\n",
      " 21  vacina_grupoAtendimento_nome              object \n",
      " 22  vacina_categoria_codigo                   float64\n",
      " 23  vacina_categoria_nome                     object \n",
      " 24  vacina_lote                               object \n",
      " 25  vacina_fabricante_nome                    object \n",
      " 26  vacina_fabricante_referencia              object \n",
      " 27  vacina_dataAplicacao                      object \n",
      " 28  vacina_descricao_dose                     object \n",
      " 29  vacina_codigo                             int64  \n",
      " 30  vacina_nome                               object \n",
      " 31  sistema_origem                            object \n",
      "dtypes: float64(4), int64(3), object(25)\n",
      "memory usage: 417.1+ MB\n"
     ]
    }
   ],
   "source": [
    "# Listagem das colunas para consulta\n",
    "dados.info()\n"
   ]
  },
  {
   "cell_type": "code",
   "execution_count": 4,
   "id": "c6f2b6fe",
   "metadata": {},
   "outputs": [
    {
     "data": {
      "text/plain": [
       "PFIZER                                       675743\n",
       "ASTRAZENECA/FIOCRUZ                          599125\n",
       "SINOVAC/BUTANTAN                             330186\n",
       "JANSSEN                                       42765\n",
       "Pendente Identificação                        19858\n",
       "PFIZER - PEDIÁTRICA                           15539\n",
       "PFIZER - PEDI?TRICA                           12134\n",
       "ASTRAZENECA                                    4920\n",
       "Pendente Identifica??o                         3965\n",
       "PFIZER - PEDIÁTRICA MENOR DE 5 ANOS            2524\n",
       "SINOVAC                                        1593\n",
       "PFIZER MANUFACTURING BELGIUM NV - BELGICA         4\n",
       "FUNDACAO OSWALDO CRUZ                             1\n",
       "Name: vacina_fabricante_nome, dtype: int64"
      ]
     },
     "execution_count": 4,
     "metadata": {},
     "output_type": "execute_result"
    }
   ],
   "source": [
    "dados.vacina_fabricante_nome.value_counts()"
   ]
  },
  {
   "cell_type": "markdown",
   "id": "2c970ca6",
   "metadata": {},
   "source": [
    "# Tratamento dos dados"
   ]
  },
  {
   "cell_type": "code",
   "execution_count": 5,
   "id": "0752026d",
   "metadata": {},
   "outputs": [
    {
     "ename": "KeyError",
     "evalue": "\"['PFIZER - PEDIÁTRICA', 'PFIZER - PEDIATRICA', 'PFIZER - PEDIÁTRICA MENOR DE 5 ANOS'] not found in axis\"",
     "output_type": "error",
     "traceback": [
      "\u001b[1;31m---------------------------------------------------------------------------\u001b[0m",
      "\u001b[1;31mKeyError\u001b[0m                                  Traceback (most recent call last)",
      "Cell \u001b[1;32mIn[5], line 23\u001b[0m\n\u001b[0;32m     20\u001b[0m dados[\u001b[38;5;124m'\u001b[39m\u001b[38;5;124mPFIZER PEDIATRICA\u001b[39m\u001b[38;5;124m'\u001b[39m] \u001b[38;5;241m=\u001b[39m pd\u001b[38;5;241m.\u001b[39mconcat([ttt_col_pfizer[\u001b[38;5;124m'\u001b[39m\u001b[38;5;124mPFIZER - PEDIÁTRICA\u001b[39m\u001b[38;5;124m'\u001b[39m], ttt_col_pfizer[\u001b[38;5;124m'\u001b[39m\u001b[38;5;124mPFIZER - PEDIATRICA\u001b[39m\u001b[38;5;124m'\u001b[39m], ttt_col_pfizer[\u001b[38;5;124m'\u001b[39m\u001b[38;5;124mPFIZER - PEDIÁTRICA MENOR DE 5 ANOS\u001b[39m\u001b[38;5;124m'\u001b[39m]])\n\u001b[0;32m     22\u001b[0m \u001b[38;5;66;03m# Removendo as colunas originais\u001b[39;00m\n\u001b[1;32m---> 23\u001b[0m \u001b[43mdados\u001b[49m\u001b[38;5;241;43m.\u001b[39;49m\u001b[43mdrop\u001b[49m\u001b[43m(\u001b[49m\u001b[43m[\u001b[49m\u001b[38;5;124;43m'\u001b[39;49m\u001b[38;5;124;43mPFIZER - PEDIÁTRICA\u001b[39;49m\u001b[38;5;124;43m'\u001b[39;49m\u001b[43m,\u001b[49m\u001b[43m \u001b[49m\u001b[38;5;124;43m'\u001b[39;49m\u001b[38;5;124;43mPFIZER - PEDIATRICA\u001b[39;49m\u001b[38;5;124;43m'\u001b[39;49m\u001b[43m,\u001b[49m\u001b[43m \u001b[49m\u001b[38;5;124;43m'\u001b[39;49m\u001b[38;5;124;43mPFIZER - PEDIÁTRICA MENOR DE 5 ANOS\u001b[39;49m\u001b[38;5;124;43m'\u001b[39;49m\u001b[43m]\u001b[49m\u001b[43m,\u001b[49m\u001b[43m \u001b[49m\u001b[43maxis\u001b[49m\u001b[38;5;241;43m=\u001b[39;49m\u001b[38;5;241;43m1\u001b[39;49m\u001b[43m,\u001b[49m\u001b[43m \u001b[49m\u001b[43minplace\u001b[49m\u001b[38;5;241;43m=\u001b[39;49m\u001b[38;5;28;43;01mTrue\u001b[39;49;00m\u001b[43m)\u001b[49m\n\u001b[0;32m     25\u001b[0m \u001b[38;5;66;03m# Exibe o DataFrame resultante\u001b[39;00m\n\u001b[0;32m     26\u001b[0m dados\n",
      "File \u001b[1;32m~\\AppData\\Roaming\\Python\\Python39\\site-packages\\pandas\\util\\_decorators.py:331\u001b[0m, in \u001b[0;36mdeprecate_nonkeyword_arguments.<locals>.decorate.<locals>.wrapper\u001b[1;34m(*args, **kwargs)\u001b[0m\n\u001b[0;32m    325\u001b[0m \u001b[38;5;28;01mif\u001b[39;00m \u001b[38;5;28mlen\u001b[39m(args) \u001b[38;5;241m>\u001b[39m num_allow_args:\n\u001b[0;32m    326\u001b[0m     warnings\u001b[38;5;241m.\u001b[39mwarn(\n\u001b[0;32m    327\u001b[0m         msg\u001b[38;5;241m.\u001b[39mformat(arguments\u001b[38;5;241m=\u001b[39m_format_argument_list(allow_args)),\n\u001b[0;32m    328\u001b[0m         \u001b[38;5;167;01mFutureWarning\u001b[39;00m,\n\u001b[0;32m    329\u001b[0m         stacklevel\u001b[38;5;241m=\u001b[39mfind_stack_level(),\n\u001b[0;32m    330\u001b[0m     )\n\u001b[1;32m--> 331\u001b[0m \u001b[38;5;28;01mreturn\u001b[39;00m func(\u001b[38;5;241m*\u001b[39margs, \u001b[38;5;241m*\u001b[39m\u001b[38;5;241m*\u001b[39mkwargs)\n",
      "File \u001b[1;32m~\\AppData\\Roaming\\Python\\Python39\\site-packages\\pandas\\core\\frame.py:5399\u001b[0m, in \u001b[0;36mDataFrame.drop\u001b[1;34m(self, labels, axis, index, columns, level, inplace, errors)\u001b[0m\n\u001b[0;32m   5251\u001b[0m \u001b[38;5;129m@deprecate_nonkeyword_arguments\u001b[39m(version\u001b[38;5;241m=\u001b[39m\u001b[38;5;28;01mNone\u001b[39;00m, allowed_args\u001b[38;5;241m=\u001b[39m[\u001b[38;5;124m\"\u001b[39m\u001b[38;5;124mself\u001b[39m\u001b[38;5;124m\"\u001b[39m, \u001b[38;5;124m\"\u001b[39m\u001b[38;5;124mlabels\u001b[39m\u001b[38;5;124m\"\u001b[39m])\n\u001b[0;32m   5252\u001b[0m \u001b[38;5;28;01mdef\u001b[39;00m \u001b[38;5;21mdrop\u001b[39m(  \u001b[38;5;66;03m# type: ignore[override]\u001b[39;00m\n\u001b[0;32m   5253\u001b[0m     \u001b[38;5;28mself\u001b[39m,\n\u001b[1;32m   (...)\u001b[0m\n\u001b[0;32m   5260\u001b[0m     errors: IgnoreRaise \u001b[38;5;241m=\u001b[39m \u001b[38;5;124m\"\u001b[39m\u001b[38;5;124mraise\u001b[39m\u001b[38;5;124m\"\u001b[39m,\n\u001b[0;32m   5261\u001b[0m ) \u001b[38;5;241m-\u001b[39m\u001b[38;5;241m>\u001b[39m DataFrame \u001b[38;5;241m|\u001b[39m \u001b[38;5;28;01mNone\u001b[39;00m:\n\u001b[0;32m   5262\u001b[0m     \u001b[38;5;124;03m\"\"\"\u001b[39;00m\n\u001b[0;32m   5263\u001b[0m \u001b[38;5;124;03m    Drop specified labels from rows or columns.\u001b[39;00m\n\u001b[0;32m   5264\u001b[0m \n\u001b[1;32m   (...)\u001b[0m\n\u001b[0;32m   5397\u001b[0m \u001b[38;5;124;03m            weight  1.0     0.8\u001b[39;00m\n\u001b[0;32m   5398\u001b[0m \u001b[38;5;124;03m    \"\"\"\u001b[39;00m\n\u001b[1;32m-> 5399\u001b[0m     \u001b[38;5;28;01mreturn\u001b[39;00m \u001b[38;5;28;43msuper\u001b[39;49m\u001b[43m(\u001b[49m\u001b[43m)\u001b[49m\u001b[38;5;241;43m.\u001b[39;49m\u001b[43mdrop\u001b[49m\u001b[43m(\u001b[49m\n\u001b[0;32m   5400\u001b[0m \u001b[43m        \u001b[49m\u001b[43mlabels\u001b[49m\u001b[38;5;241;43m=\u001b[39;49m\u001b[43mlabels\u001b[49m\u001b[43m,\u001b[49m\n\u001b[0;32m   5401\u001b[0m \u001b[43m        \u001b[49m\u001b[43maxis\u001b[49m\u001b[38;5;241;43m=\u001b[39;49m\u001b[43maxis\u001b[49m\u001b[43m,\u001b[49m\n\u001b[0;32m   5402\u001b[0m \u001b[43m        \u001b[49m\u001b[43mindex\u001b[49m\u001b[38;5;241;43m=\u001b[39;49m\u001b[43mindex\u001b[49m\u001b[43m,\u001b[49m\n\u001b[0;32m   5403\u001b[0m \u001b[43m        \u001b[49m\u001b[43mcolumns\u001b[49m\u001b[38;5;241;43m=\u001b[39;49m\u001b[43mcolumns\u001b[49m\u001b[43m,\u001b[49m\n\u001b[0;32m   5404\u001b[0m \u001b[43m        \u001b[49m\u001b[43mlevel\u001b[49m\u001b[38;5;241;43m=\u001b[39;49m\u001b[43mlevel\u001b[49m\u001b[43m,\u001b[49m\n\u001b[0;32m   5405\u001b[0m \u001b[43m        \u001b[49m\u001b[43minplace\u001b[49m\u001b[38;5;241;43m=\u001b[39;49m\u001b[43minplace\u001b[49m\u001b[43m,\u001b[49m\n\u001b[0;32m   5406\u001b[0m \u001b[43m        \u001b[49m\u001b[43merrors\u001b[49m\u001b[38;5;241;43m=\u001b[39;49m\u001b[43merrors\u001b[49m\u001b[43m,\u001b[49m\n\u001b[0;32m   5407\u001b[0m \u001b[43m    \u001b[49m\u001b[43m)\u001b[49m\n",
      "File \u001b[1;32m~\\AppData\\Roaming\\Python\\Python39\\site-packages\\pandas\\util\\_decorators.py:331\u001b[0m, in \u001b[0;36mdeprecate_nonkeyword_arguments.<locals>.decorate.<locals>.wrapper\u001b[1;34m(*args, **kwargs)\u001b[0m\n\u001b[0;32m    325\u001b[0m \u001b[38;5;28;01mif\u001b[39;00m \u001b[38;5;28mlen\u001b[39m(args) \u001b[38;5;241m>\u001b[39m num_allow_args:\n\u001b[0;32m    326\u001b[0m     warnings\u001b[38;5;241m.\u001b[39mwarn(\n\u001b[0;32m    327\u001b[0m         msg\u001b[38;5;241m.\u001b[39mformat(arguments\u001b[38;5;241m=\u001b[39m_format_argument_list(allow_args)),\n\u001b[0;32m    328\u001b[0m         \u001b[38;5;167;01mFutureWarning\u001b[39;00m,\n\u001b[0;32m    329\u001b[0m         stacklevel\u001b[38;5;241m=\u001b[39mfind_stack_level(),\n\u001b[0;32m    330\u001b[0m     )\n\u001b[1;32m--> 331\u001b[0m \u001b[38;5;28;01mreturn\u001b[39;00m func(\u001b[38;5;241m*\u001b[39margs, \u001b[38;5;241m*\u001b[39m\u001b[38;5;241m*\u001b[39mkwargs)\n",
      "File \u001b[1;32m~\\AppData\\Roaming\\Python\\Python39\\site-packages\\pandas\\core\\generic.py:4505\u001b[0m, in \u001b[0;36mNDFrame.drop\u001b[1;34m(self, labels, axis, index, columns, level, inplace, errors)\u001b[0m\n\u001b[0;32m   4503\u001b[0m \u001b[38;5;28;01mfor\u001b[39;00m axis, labels \u001b[38;5;129;01min\u001b[39;00m axes\u001b[38;5;241m.\u001b[39mitems():\n\u001b[0;32m   4504\u001b[0m     \u001b[38;5;28;01mif\u001b[39;00m labels \u001b[38;5;129;01mis\u001b[39;00m \u001b[38;5;129;01mnot\u001b[39;00m \u001b[38;5;28;01mNone\u001b[39;00m:\n\u001b[1;32m-> 4505\u001b[0m         obj \u001b[38;5;241m=\u001b[39m \u001b[43mobj\u001b[49m\u001b[38;5;241;43m.\u001b[39;49m\u001b[43m_drop_axis\u001b[49m\u001b[43m(\u001b[49m\u001b[43mlabels\u001b[49m\u001b[43m,\u001b[49m\u001b[43m \u001b[49m\u001b[43maxis\u001b[49m\u001b[43m,\u001b[49m\u001b[43m \u001b[49m\u001b[43mlevel\u001b[49m\u001b[38;5;241;43m=\u001b[39;49m\u001b[43mlevel\u001b[49m\u001b[43m,\u001b[49m\u001b[43m \u001b[49m\u001b[43merrors\u001b[49m\u001b[38;5;241;43m=\u001b[39;49m\u001b[43merrors\u001b[49m\u001b[43m)\u001b[49m\n\u001b[0;32m   4507\u001b[0m \u001b[38;5;28;01mif\u001b[39;00m inplace:\n\u001b[0;32m   4508\u001b[0m     \u001b[38;5;28mself\u001b[39m\u001b[38;5;241m.\u001b[39m_update_inplace(obj)\n",
      "File \u001b[1;32m~\\AppData\\Roaming\\Python\\Python39\\site-packages\\pandas\\core\\generic.py:4546\u001b[0m, in \u001b[0;36mNDFrame._drop_axis\u001b[1;34m(self, labels, axis, level, errors, only_slice)\u001b[0m\n\u001b[0;32m   4544\u001b[0m         new_axis \u001b[38;5;241m=\u001b[39m axis\u001b[38;5;241m.\u001b[39mdrop(labels, level\u001b[38;5;241m=\u001b[39mlevel, errors\u001b[38;5;241m=\u001b[39merrors)\n\u001b[0;32m   4545\u001b[0m     \u001b[38;5;28;01melse\u001b[39;00m:\n\u001b[1;32m-> 4546\u001b[0m         new_axis \u001b[38;5;241m=\u001b[39m \u001b[43maxis\u001b[49m\u001b[38;5;241;43m.\u001b[39;49m\u001b[43mdrop\u001b[49m\u001b[43m(\u001b[49m\u001b[43mlabels\u001b[49m\u001b[43m,\u001b[49m\u001b[43m \u001b[49m\u001b[43merrors\u001b[49m\u001b[38;5;241;43m=\u001b[39;49m\u001b[43merrors\u001b[49m\u001b[43m)\u001b[49m\n\u001b[0;32m   4547\u001b[0m     indexer \u001b[38;5;241m=\u001b[39m axis\u001b[38;5;241m.\u001b[39mget_indexer(new_axis)\n\u001b[0;32m   4549\u001b[0m \u001b[38;5;66;03m# Case for non-unique axis\u001b[39;00m\n\u001b[0;32m   4550\u001b[0m \u001b[38;5;28;01melse\u001b[39;00m:\n",
      "File \u001b[1;32m~\\AppData\\Roaming\\Python\\Python39\\site-packages\\pandas\\core\\indexes\\base.py:6934\u001b[0m, in \u001b[0;36mIndex.drop\u001b[1;34m(self, labels, errors)\u001b[0m\n\u001b[0;32m   6932\u001b[0m \u001b[38;5;28;01mif\u001b[39;00m mask\u001b[38;5;241m.\u001b[39many():\n\u001b[0;32m   6933\u001b[0m     \u001b[38;5;28;01mif\u001b[39;00m errors \u001b[38;5;241m!=\u001b[39m \u001b[38;5;124m\"\u001b[39m\u001b[38;5;124mignore\u001b[39m\u001b[38;5;124m\"\u001b[39m:\n\u001b[1;32m-> 6934\u001b[0m         \u001b[38;5;28;01mraise\u001b[39;00m \u001b[38;5;167;01mKeyError\u001b[39;00m(\u001b[38;5;124mf\u001b[39m\u001b[38;5;124m\"\u001b[39m\u001b[38;5;132;01m{\u001b[39;00m\u001b[38;5;28mlist\u001b[39m(labels[mask])\u001b[38;5;132;01m}\u001b[39;00m\u001b[38;5;124m not found in axis\u001b[39m\u001b[38;5;124m\"\u001b[39m)\n\u001b[0;32m   6935\u001b[0m     indexer \u001b[38;5;241m=\u001b[39m indexer[\u001b[38;5;241m~\u001b[39mmask]\n\u001b[0;32m   6936\u001b[0m \u001b[38;5;28;01mreturn\u001b[39;00m \u001b[38;5;28mself\u001b[39m\u001b[38;5;241m.\u001b[39mdelete(indexer)\n",
      "\u001b[1;31mKeyError\u001b[0m: \"['PFIZER - PEDIÁTRICA', 'PFIZER - PEDIATRICA', 'PFIZER - PEDIÁTRICA MENOR DE 5 ANOS'] not found in axis\""
     ]
    }
   ],
   "source": [
    "# Seleção das colunas a serem analisadas neste projeto\n",
    "dados = dados.loc[:, ['paciente_idade','paciente_enumSexoBiologico','paciente_racaCor_valor','paciente_endereco_nmMunicipio','vacina_categoria_nome','vacina_fabricante_nome','vacina_dataAplicacao','vacina_descricao_dose']]\n",
    "\n",
    "# Filtro a partir da 1ª dose\n",
    "dados = dados[dados['vacina_descricao_dose'] == '1ª Dose']\n",
    "\n",
    "# Retirando informações duplicadas\n",
    "dados.drop_duplicates(inplace=True)\n",
    "\n",
    "# Retirada de pacientes com erro de digitação na idade\n",
    "ttt_idade = dados[dados['paciente_idade'] != 221.0]\n",
    "\n",
    "# Renomeia a coluna com caractere especial\n",
    "dados = dados.rename(columns={'PFIZER - PEDI?TRICA': 'PFIZER - PEDIATRICA'})\n",
    "\n",
    "# Criando DataFrame vazio com as colunas desejadas\n",
    "ttt_col_pfizer = pd.DataFrame(columns=['PFIZER - PEDIÁTRICA', 'PFIZER - PEDIATRICA', 'PFIZER - PEDIÁTRICA MENOR DE 5 ANOS'])\n",
    "\n",
    "# Juntando as colunas Pfizer em uma única coluna\n",
    "dados['PFIZER PEDIATRICA'] = pd.concat([ttt_col_pfizer['PFIZER - PEDIÁTRICA'], ttt_col_pfizer['PFIZER - PEDIATRICA'], ttt_col_pfizer['PFIZER - PEDIÁTRICA MENOR DE 5 ANOS']])\n",
    "\n",
    "# Removendo as colunas originais\n",
    "dados.drop(['PFIZER - PEDIÁTRICA', 'PFIZER - PEDIATRICA', 'PFIZER - PEDIÁTRICA MENOR DE 5 ANOS'], axis=1, inplace=True)\n",
    "\n",
    "# Exibe o DataFrame resultante\n",
    "dados\n"
   ]
  },
  {
   "cell_type": "code",
   "execution_count": null,
   "id": "3ebecf52",
   "metadata": {},
   "outputs": [],
   "source": [
    "# Juntar nomes iguais de coluna vacina_fabricante_nome \n",
    "dados.vacina_fabricante_nome.value_counts()"
   ]
  },
  {
   "cell_type": "markdown",
   "id": "5d13822a",
   "metadata": {},
   "source": [
    "## Quem são as pessoas vacinadas com a 1ª dose (COVID-19) no estado do Amazonas?"
   ]
  },
  {
   "cell_type": "code",
   "execution_count": null,
   "id": "e39fdf82",
   "metadata": {
    "scrolled": true
   },
   "outputs": [],
   "source": [
    "# Quantidade de aplicações de 1ª dose da vacina por Idade, em porcentagem\n",
    "idade = dados.paciente_idade.value_counts()\n",
    "tt_idade = idade.sum()\n",
    "porcent_idade = (idade/tt_idade)*100\n",
    "porcent_idade.plot(kind='bar')"
   ]
  },
  {
   "cell_type": "code",
   "execution_count": null,
   "id": "47d33898",
   "metadata": {},
   "outputs": [],
   "source": [
    "# Quantidade de aplicações de 1ª dose da vacina por Raça, em porcentagem\n",
    "raça = dados.paciente_racaCor_valor.value_counts(normalize=True)\n",
    "tt_raça = raça.sum()\n",
    "porcent_raça = (raça/tt_raça)*100\n",
    "porcent_raça.plot(kind='bar', title='Vacinas 1ª dose por Raça, em porcentagem', ylabel='')"
   ]
  },
  {
   "cell_type": "code",
   "execution_count": null,
   "id": "0c3eaf5b",
   "metadata": {},
   "outputs": [],
   "source": [
    "# Quantidade de aplicações de 1ª dose da vacina por sexo, em porcentagem\n",
    "sexo = dados.paciente_enumSexoBiologico.value_counts(normalize=True)\n",
    "sexo"
   ]
  },
  {
   "cell_type": "code",
   "execution_count": null,
   "id": "10877fd3",
   "metadata": {},
   "outputs": [],
   "source": [
    "# Quantidade de aplicações de 1ª dose da vacina por Município, em porcentagem\n",
    "tt_munic = dados.paciente_endereco_nmMunicipio.value_counts()\n",
    "tt_pac = tt_munic.sum()\n",
    "porcent_munic = (tt_munic/tt_pac)*100\n",
    "porcent_munic"
   ]
  },
  {
   "cell_type": "markdown",
   "id": "8c737813",
   "metadata": {},
   "source": [
    "## Problema\n",
    "Há diferença entre o perfil das pessoas que tomaram a segunda dose no Amazonas?\n",
    "Qual a distância média entre a casa e o local de aplicação?\n",
    " (contabilizar 1 dose e 2 doses e 3 doses)"
   ]
  },
  {
   "cell_type": "code",
   "execution_count": null,
   "id": "03943ead",
   "metadata": {},
   "outputs": [],
   "source": [
    "# Quantidade total de aplicação da 1ª dose da vacina por população de risco, em porcentagem\n",
    "pop_risco = dados.vacina_categoria_nome.value_counts()\n",
    "tt_cat = pop_risco.sum()\n",
    "porcent_pop_risco = (pop_risco/tt_cat)*100\n",
    "porcent_pop_risco = round(porcent_pop_risco, 2)\n",
    "porcent_pop_risco"
   ]
  },
  {
   "cell_type": "code",
   "execution_count": null,
   "id": "d0c6f561",
   "metadata": {},
   "outputs": [],
   "source": [
    "# Fabricante de vacina por população de risco (trabalhadores da saúde)\n",
    "pop_risco = dados[(dados['vacina_categoria_nome'] != 'Faixa Etária')]\n",
    "grupo_pop_risco = pop_risco.groupby('vacina_categoria_nome')['vacina_fabricante_nome'].value_counts()\n",
    "grupo_trab = grupo_pop_risco['Trabalhadores de Saúde']\n",
    "tt_trab = grupo_pop_risco['Trabalhadores de Saúde'].sum()\n",
    "porcent_trab = (grupo_trab/tt_trab)*100\n",
    "porcent_trab = round(porcent_trab, 2)\n",
    "porcent_trab"
   ]
  },
  {
   "cell_type": "code",
   "execution_count": null,
   "id": "2849f221",
   "metadata": {},
   "outputs": [],
   "source": [
    "# Fabricante de vacina por população de risco (comorbidades)\n",
    "pop_risco = dados[(dados['vacina_categoria_nome'] != 'Faixa Etária')]\n",
    "grupo_pop_risco = pop_risco.groupby('vacina_categoria_nome')['vacina_fabricante_nome'].value_counts()\n",
    "grupo_comorb = grupo_pop_risco['Comorbidades']\n",
    "tt_comorb = grupo_pop_risco['Comorbidades'].sum()\n",
    "porcent_comorb = (grupo_comorb/tt_comorb)*100\n",
    "porcent_comorb = round(porcent_comorb, 2)\n",
    "porcent_comorb"
   ]
  },
  {
   "cell_type": "code",
   "execution_count": null,
   "id": "9384e21c",
   "metadata": {},
   "outputs": [],
   "source": [
    "# Verificar primeira data de aplicação de vacina e apresentar as populações vacinadas\n",
    "dados['vacina_dataAplicacao'] = pd.to_datetime(dados['vacina_dataAplicacao'], format='%Y-%m-%d')\n",
    "dados_ord = dados.groupby(['vacina_dataAplicacao', 'vacina_categoria_nome']).size().reset_index(name='count')\n",
    "dados_ord = dados_ord.sort_values(by='vacina_dataAplicacao')"
   ]
  },
  {
   "cell_type": "code",
   "execution_count": null,
   "id": "d240ecde",
   "metadata": {},
   "outputs": [],
   "source": [
    "#"
   ]
  },
  {
   "cell_type": "code",
   "execution_count": null,
   "id": "86c022e2",
   "metadata": {},
   "outputs": [],
   "source": []
  },
  {
   "cell_type": "code",
   "execution_count": null,
   "id": "8bbeb1be",
   "metadata": {},
   "outputs": [],
   "source": []
  }
 ],
 "metadata": {
  "kernelspec": {
   "display_name": "Python 3 (ipykernel)",
   "language": "python",
   "name": "python3"
  },
  "language_info": {
   "codemirror_mode": {
    "name": "ipython",
    "version": 3
   },
   "file_extension": ".py",
   "mimetype": "text/x-python",
   "name": "python",
   "nbconvert_exporter": "python",
   "pygments_lexer": "ipython3",
   "version": "3.9.16"
  }
 },
 "nbformat": 4,
 "nbformat_minor": 5
}
