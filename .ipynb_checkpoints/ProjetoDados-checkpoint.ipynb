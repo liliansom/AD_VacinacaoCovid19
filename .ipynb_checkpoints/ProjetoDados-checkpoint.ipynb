{
 "cells": [
  {
   "cell_type": "markdown",
   "id": "aef97fab",
   "metadata": {},
   "source": [
    "# Importações"
   ]
  },
  {
   "cell_type": "code",
   "execution_count": 1,
   "id": "fb05c125",
   "metadata": {},
   "outputs": [],
   "source": [
    "# Importação das bibliotecas\n",
    "import pandas as pd\n",
    "import matplotlib"
   ]
  },
  {
   "cell_type": "code",
   "execution_count": 2,
   "id": "34d0bf51",
   "metadata": {},
   "outputs": [
    {
     "name": "stderr",
     "output_type": "stream",
     "text": [
      "C:\\Users\\Usuário\\AppData\\Local\\Temp\\ipykernel_8672\\3544363823.py:2: DtypeWarning: Columns (7,8) have mixed types. Specify dtype option on import or set low_memory=False.\n",
      "  dados = pd.read_csv(r'C:\\Users\\Usuário\\Documents\\GitHub\\Analise_Dados\\DadosVacinaAM.csv', sep=\";\")\n"
     ]
    }
   ],
   "source": [
    "# Importação do banco de dados CSV\n",
    "dados = pd.read_csv(r'C:\\Users\\Usuário\\Documents\\GitHub\\Analise_Dados\\DadosVacinaAM.csv', sep=\";\")"
   ]
  },
  {
   "cell_type": "code",
   "execution_count": 3,
   "id": "1af4e595",
   "metadata": {},
   "outputs": [
    {
     "name": "stdout",
     "output_type": "stream",
     "text": [
      "<class 'pandas.core.frame.DataFrame'>\n",
      "RangeIndex: 1708357 entries, 0 to 1708356\n",
      "Data columns (total 32 columns):\n",
      " #   Column                                    Dtype  \n",
      "---  ------                                    -----  \n",
      " 0   document_id                               object \n",
      " 1   paciente_id                               object \n",
      " 2   paciente_idade                            float64\n",
      " 3   paciente_dataNascimento                   object \n",
      " 4   paciente_enumSexoBiologico                object \n",
      " 5   paciente_racaCor_codigo                   float64\n",
      " 6   paciente_racaCor_valor                    object \n",
      " 7   paciente_endereco_coIbgeMunicipio         object \n",
      " 8   paciente_endereco_coPais                  object \n",
      " 9   paciente_endereco_nmMunicipio             object \n",
      " 10  paciente_endereco_nmPais                  object \n",
      " 11  paciente_endereco_uf                      object \n",
      " 12  paciente_endereco_cep                     object \n",
      " 13  paciente_nacionalidade_enumNacionalidade  object \n",
      " 14  estabelecimento_valor                     int64  \n",
      " 15  estabelecimento_razaoSocial               object \n",
      " 16  estalecimento_noFantasia                  object \n",
      " 17  estabelecimento_municipio_codigo          int64  \n",
      " 18  estabelecimento_municipio_nome            object \n",
      " 19  estabelecimento_uf                        object \n",
      " 20  vacina_grupoAtendimento_codigo            float64\n",
      " 21  vacina_grupoAtendimento_nome              object \n",
      " 22  vacina_categoria_codigo                   float64\n",
      " 23  vacina_categoria_nome                     object \n",
      " 24  vacina_lote                               object \n",
      " 25  vacina_fabricante_nome                    object \n",
      " 26  vacina_fabricante_referencia              object \n",
      " 27  vacina_dataAplicacao                      object \n",
      " 28  vacina_descricao_dose                     object \n",
      " 29  vacina_codigo                             int64  \n",
      " 30  vacina_nome                               object \n",
      " 31  sistema_origem                            object \n",
      "dtypes: float64(4), int64(3), object(25)\n",
      "memory usage: 417.1+ MB\n"
     ]
    }
   ],
   "source": [
    "# Listagem das colunas para consulta\n",
    "dados.info()\n"
   ]
  },
  {
   "cell_type": "markdown",
   "id": "2c970ca6",
   "metadata": {},
   "source": [
    "# Tratamento dos dados"
   ]
  },
  {
   "cell_type": "code",
   "execution_count": 4,
   "id": "0752026d",
   "metadata": {},
   "outputs": [
    {
     "data": {
      "text/html": [
       "<div>\n",
       "<style scoped>\n",
       "    .dataframe tbody tr th:only-of-type {\n",
       "        vertical-align: middle;\n",
       "    }\n",
       "\n",
       "    .dataframe tbody tr th {\n",
       "        vertical-align: top;\n",
       "    }\n",
       "\n",
       "    .dataframe thead th {\n",
       "        text-align: right;\n",
       "    }\n",
       "</style>\n",
       "<table border=\"1\" class=\"dataframe\">\n",
       "  <thead>\n",
       "    <tr style=\"text-align: right;\">\n",
       "      <th></th>\n",
       "      <th>paciente_idade</th>\n",
       "      <th>paciente_enumSexoBiologico</th>\n",
       "      <th>paciente_racaCor_valor</th>\n",
       "      <th>paciente_endereco_nmMunicipio</th>\n",
       "      <th>vacina_categoria_nome</th>\n",
       "      <th>vacina_fabricante_nome</th>\n",
       "      <th>vacina_dataAplicacao</th>\n",
       "      <th>vacina_descricao_dose</th>\n",
       "    </tr>\n",
       "  </thead>\n",
       "  <tbody>\n",
       "    <tr>\n",
       "      <th>0</th>\n",
       "      <td>29.0</td>\n",
       "      <td>F</td>\n",
       "      <td>AMARELA</td>\n",
       "      <td>MANAUS</td>\n",
       "      <td>Faixa Etária</td>\n",
       "      <td>PFIZER</td>\n",
       "      <td>2021-10-21</td>\n",
       "      <td>1ª Dose</td>\n",
       "    </tr>\n",
       "    <tr>\n",
       "      <th>1</th>\n",
       "      <td>13.0</td>\n",
       "      <td>F</td>\n",
       "      <td>PARDA</td>\n",
       "      <td>MANAUS</td>\n",
       "      <td>Faixa Etária</td>\n",
       "      <td>PFIZER</td>\n",
       "      <td>2021-08-27</td>\n",
       "      <td>1ª Dose</td>\n",
       "    </tr>\n",
       "    <tr>\n",
       "      <th>2</th>\n",
       "      <td>77.0</td>\n",
       "      <td>F</td>\n",
       "      <td>SEM INFORMACAO</td>\n",
       "      <td>MANAUS</td>\n",
       "      <td>Faixa Etária</td>\n",
       "      <td>ASTRAZENECA/FIOCRUZ</td>\n",
       "      <td>2021-02-05</td>\n",
       "      <td>1ª Dose</td>\n",
       "    </tr>\n",
       "    <tr>\n",
       "      <th>3</th>\n",
       "      <td>66.0</td>\n",
       "      <td>M</td>\n",
       "      <td>BRANCA</td>\n",
       "      <td>MANAUS</td>\n",
       "      <td>Faixa Etária</td>\n",
       "      <td>ASTRAZENECA/FIOCRUZ</td>\n",
       "      <td>2021-03-05</td>\n",
       "      <td>1ª Dose</td>\n",
       "    </tr>\n",
       "    <tr>\n",
       "      <th>5</th>\n",
       "      <td>4.0</td>\n",
       "      <td>M</td>\n",
       "      <td>PARDA</td>\n",
       "      <td>MANAUS</td>\n",
       "      <td>NaN</td>\n",
       "      <td>SINOVAC/BUTANTAN</td>\n",
       "      <td>2022-11-19</td>\n",
       "      <td>1ª Dose</td>\n",
       "    </tr>\n",
       "    <tr>\n",
       "      <th>...</th>\n",
       "      <td>...</td>\n",
       "      <td>...</td>\n",
       "      <td>...</td>\n",
       "      <td>...</td>\n",
       "      <td>...</td>\n",
       "      <td>...</td>\n",
       "      <td>...</td>\n",
       "      <td>...</td>\n",
       "    </tr>\n",
       "    <tr>\n",
       "      <th>1708344</th>\n",
       "      <td>31.0</td>\n",
       "      <td>M</td>\n",
       "      <td>SEM INFORMACAO</td>\n",
       "      <td>MANAUS</td>\n",
       "      <td>Faixa Etária</td>\n",
       "      <td>ASTRAZENECA/FIOCRUZ</td>\n",
       "      <td>2021-07-21</td>\n",
       "      <td>1ª Dose</td>\n",
       "    </tr>\n",
       "    <tr>\n",
       "      <th>1708345</th>\n",
       "      <td>49.0</td>\n",
       "      <td>M</td>\n",
       "      <td>AMARELA</td>\n",
       "      <td>MANAUS</td>\n",
       "      <td>Faixa Etária</td>\n",
       "      <td>ASTRAZENECA/FIOCRUZ</td>\n",
       "      <td>2021-06-13</td>\n",
       "      <td>1ª Dose</td>\n",
       "    </tr>\n",
       "    <tr>\n",
       "      <th>1708346</th>\n",
       "      <td>57.0</td>\n",
       "      <td>M</td>\n",
       "      <td>SEM INFORMACAO</td>\n",
       "      <td>MANAUS</td>\n",
       "      <td>Faixa Etária</td>\n",
       "      <td>PFIZER</td>\n",
       "      <td>2021-07-28</td>\n",
       "      <td>1ª Dose</td>\n",
       "    </tr>\n",
       "    <tr>\n",
       "      <th>1708347</th>\n",
       "      <td>53.0</td>\n",
       "      <td>M</td>\n",
       "      <td>PARDA</td>\n",
       "      <td>MANAUS</td>\n",
       "      <td>Faixa Etária</td>\n",
       "      <td>ASTRAZENECA/FIOCRUZ</td>\n",
       "      <td>2021-06-09</td>\n",
       "      <td>1ª Dose</td>\n",
       "    </tr>\n",
       "    <tr>\n",
       "      <th>1708352</th>\n",
       "      <td>34.0</td>\n",
       "      <td>F</td>\n",
       "      <td>PARDA</td>\n",
       "      <td>JURUA</td>\n",
       "      <td>Faixa Etária</td>\n",
       "      <td>ASTRAZENECA/FIOCRUZ</td>\n",
       "      <td>2021-07-07</td>\n",
       "      <td>1ª Dose</td>\n",
       "    </tr>\n",
       "  </tbody>\n",
       "</table>\n",
       "<p>660103 rows × 8 columns</p>\n",
       "</div>"
      ],
      "text/plain": [
       "         paciente_idade paciente_enumSexoBiologico paciente_racaCor_valor  \\\n",
       "0                  29.0                          F                AMARELA   \n",
       "1                  13.0                          F                  PARDA   \n",
       "2                  77.0                          F         SEM INFORMACAO   \n",
       "3                  66.0                          M                 BRANCA   \n",
       "5                   4.0                          M                  PARDA   \n",
       "...                 ...                        ...                    ...   \n",
       "1708344            31.0                          M         SEM INFORMACAO   \n",
       "1708345            49.0                          M                AMARELA   \n",
       "1708346            57.0                          M         SEM INFORMACAO   \n",
       "1708347            53.0                          M                  PARDA   \n",
       "1708352            34.0                          F                  PARDA   \n",
       "\n",
       "        paciente_endereco_nmMunicipio vacina_categoria_nome  \\\n",
       "0                              MANAUS          Faixa Etária   \n",
       "1                              MANAUS          Faixa Etária   \n",
       "2                              MANAUS          Faixa Etária   \n",
       "3                              MANAUS          Faixa Etária   \n",
       "5                              MANAUS                   NaN   \n",
       "...                               ...                   ...   \n",
       "1708344                        MANAUS          Faixa Etária   \n",
       "1708345                        MANAUS          Faixa Etária   \n",
       "1708346                        MANAUS          Faixa Etária   \n",
       "1708347                        MANAUS          Faixa Etária   \n",
       "1708352                         JURUA          Faixa Etária   \n",
       "\n",
       "        vacina_fabricante_nome vacina_dataAplicacao vacina_descricao_dose  \n",
       "0                       PFIZER           2021-10-21               1ª Dose  \n",
       "1                       PFIZER           2021-08-27               1ª Dose  \n",
       "2          ASTRAZENECA/FIOCRUZ           2021-02-05               1ª Dose  \n",
       "3          ASTRAZENECA/FIOCRUZ           2021-03-05               1ª Dose  \n",
       "5             SINOVAC/BUTANTAN           2022-11-19               1ª Dose  \n",
       "...                        ...                  ...                   ...  \n",
       "1708344    ASTRAZENECA/FIOCRUZ           2021-07-21               1ª Dose  \n",
       "1708345    ASTRAZENECA/FIOCRUZ           2021-06-13               1ª Dose  \n",
       "1708346                 PFIZER           2021-07-28               1ª Dose  \n",
       "1708347    ASTRAZENECA/FIOCRUZ           2021-06-09               1ª Dose  \n",
       "1708352    ASTRAZENECA/FIOCRUZ           2021-07-07               1ª Dose  \n",
       "\n",
       "[660103 rows x 8 columns]"
      ]
     },
     "execution_count": 4,
     "metadata": {},
     "output_type": "execute_result"
    }
   ],
   "source": [
    "# Seleção das colunas a serem analisadas neste projeto\n",
    "dados = dados.loc[:, ['paciente_idade','paciente_enumSexoBiologico','paciente_racaCor_valor','paciente_endereco_nmMunicipio','vacina_categoria_nome','vacina_fabricante_nome','vacina_dataAplicacao','vacina_descricao_dose']]\n",
    "\n",
    "# Filtro a partir da 1ª dose\n",
    "dados = dados[dados['vacina_descricao_dose'] == '1ª Dose']\n",
    "\n",
    "# Retirada de pacientes com erro de digitação na idade\n",
    "dados = dados[dados['paciente_idade'] != 221.0]\n",
    "\n",
    "# Mesclar nomes iguais de coluna vacina_fabricante_nome \n",
    "\n",
    "\n",
    "# Exibe o DataFrame resultante\n",
    "dados"
   ]
  },
  {
   "cell_type": "code",
   "execution_count": null,
   "id": "3ebecf52",
   "metadata": {},
   "outputs": [],
   "source": [
    "# Juntar nomes iguais de coluna vacina_fabricante_nome "
   ]
  },
  {
   "cell_type": "markdown",
   "id": "5d13822a",
   "metadata": {},
   "source": [
    "## Quem são as pessoas vacinadas no estado do Amazonas?"
   ]
  },
  {
   "cell_type": "code",
   "execution_count": 18,
   "id": "e39fdf82",
   "metadata": {
    "scrolled": true
   },
   "outputs": [],
   "source": [
    "# Quantidade de aplicações de 1ª dose da vacina por Idade, em porcentagem\n",
    "idade = dados.paciente_idade.value_counts()\n",
    "tt_idade = idade.sum()\n",
    "porcent_idade = (idade/tt_idade)*100\n",
    "#porcent_idade.plot(kind='bar')"
   ]
  },
  {
   "cell_type": "code",
   "execution_count": 25,
   "id": "47d33898",
   "metadata": {},
   "outputs": [
    {
     "data": {
      "text/plain": [
       "<Axes: title={'center': 'Vacinas 1ª dose por Raça, em porcentagem{/n} Amazonas'}>"
      ]
     },
     "execution_count": 25,
     "metadata": {},
     "output_type": "execute_result"
    },
    {
     "data": {
      "image/png": "[encoded data removed]",
      "text/plain": [
       "<Figure size 640x480 with 1 Axes>"
      ]
     },
     "metadata": {},
     "output_type": "display_data"
    }
   ],
   "source": [
    "# Quantidade de aplicações de 1ª dose da vacina por Raça, em porcentagem\n",
    "raça = dados.paciente_racaCor_valor.value_counts(normalize=True)\n",
    "tt_raça = raça.sum()\n",
    "porcent_raça = (raça/tt_raça)*100\n",
    "porcent_raça.plot(kind='pie', title='Vacinas 1ª dose por Raça, em porcentagem', ylabel='')"
   ]
  },
  {
   "cell_type": "code",
   "execution_count": 7,
   "id": "0c3eaf5b",
   "metadata": {},
   "outputs": [
    {
     "data": {
      "text/plain": [
       "<Axes: >"
      ]
     },
     "execution_count": 7,
     "metadata": {},
     "output_type": "execute_result"
    },
    {
     "data": {
      "image/png": "[encoded data removed]",
      "text/plain": [
       "<Figure size 640x480 with 1 Axes>"
      ]
     },
     "metadata": {},
     "output_type": "display_data"
    }
   ],
   "source": [
    "# Quantidade de aplicações de 1ª dose da vacina por sexo, em porcentagem\n",
    "sexo = dados.paciente_enumSexoBiologico.value_counts(normalize=True)\n",
    "tt_sexo = sexo.sum()\n",
    "porcent_sexo = (sexo/tt_sexo)*100\n",
    "porcent_sexo\n",
    "porcent_sexo.plot(kind='bar')"
   ]
  },
  {
   "cell_type": "code",
   "execution_count": 8,
   "id": "10877fd3",
   "metadata": {},
   "outputs": [
    {
     "data": {
      "text/plain": [
       "MANAUS             54.811331\n",
       "ITACOATIARA         2.613989\n",
       "PARINTINS           2.426620\n",
       "MANACAPURU          2.391441\n",
       "TEFE                1.878126\n",
       "                     ...    \n",
       "FERREIROS           0.000153\n",
       "LAPA                0.000153\n",
       "RIO FORMOSO         0.000153\n",
       "CORONEL VIVIDA      0.000153\n",
       "ANITA GARIBALDI     0.000153\n",
       "Name: paciente_endereco_nmMunicipio, Length: 2062, dtype: float64"
      ]
     },
     "execution_count": 8,
     "metadata": {},
     "output_type": "execute_result"
    }
   ],
   "source": [
    "# Quantidade de aplicações de 1ª dose da vacina por Município, em porcentagem\n",
    "tt_munic = dados.paciente_endereco_nmMunicipio.value_counts()\n",
    "tt_pac = tt_munic.sum()\n",
    "porcent_munic = (tt_munic/tt_pac)*100\n",
    "porcent_munic"
   ]
  },
  {
   "cell_type": "markdown",
   "id": "8c737813",
   "metadata": {},
   "source": [
    "## Problema"
   ]
  },
  {
   "cell_type": "code",
   "execution_count": 15,
   "id": "c6f2b6fe",
   "metadata": {},
   "outputs": [
    {
     "data": {
      "text/plain": [
       "ASTRAZENECA/FIOCRUZ                    257239\n",
       "PFIZER                                 187452\n",
       "SINOVAC/BUTANTAN                       178699\n",
       "Pendente Identificação                  13331\n",
       "PFIZER - PEDI?TRICA                      6763\n",
       "PFIZER - PEDIÁTRICA                      6233\n",
       "Pendente Identifica??o                   3867\n",
       "ASTRAZENECA                              3225\n",
       "PFIZER - PEDIÁTRICA MENOR DE 5 ANOS      2285\n",
       "JANSSEN                                   533\n",
       "SINOVAC                                   476\n",
       "Name: vacina_fabricante_nome, dtype: int64"
      ]
     },
     "execution_count": 15,
     "metadata": {},
     "output_type": "execute_result"
    }
   ],
   "source": [
    "# Verificação das soma total de 1ª doses de vacinas aplicadas, em porcentagem\n",
    "fabric = dados.vacina_fabricante_nome.value_counts()\n",
    "fabric"
   ]
  },
  {
   "cell_type": "code",
   "execution_count": 9,
   "id": "03943ead",
   "metadata": {},
   "outputs": [
    {
     "data": {
      "text/plain": [
       "Faixa Etária                                       74.475548\n",
       "Povos e Comunidades Tradicionais                    5.947342\n",
       "Trabalhadores de Saúde                              5.391464\n",
       "Comorbidades                                        5.099307\n",
       "Povos Indígenas                                     3.769257\n",
       "Trabalhadores da Educação                           2.277956\n",
       "Gestantes                                           0.649334\n",
       "Forças de Segurança e Salvamento                    0.403818\n",
       "Forças Armadas (membros ativos)                     0.366020\n",
       "Trabalhadores de Transporte                         0.345733\n",
       "Pessoas com Deficiência                             0.336024\n",
       "População Privada de Liberdade                      0.225923\n",
       "Puérperas                                           0.207717\n",
       "Trabalhadores Portuários                            0.146339\n",
       "Outros                                              0.127613\n",
       "Trabalhadores de Limpeza Urbana                     0.093976\n",
       "Funcionário do Sistema de Privação de Liberdade     0.050109\n",
       "Pessoas de 60 anos ou mais institucionalizadas      0.040919\n",
       "Pessoas em Situação de Rua                          0.023581\n",
       "Trabalhadores Industriais                           0.022020\n",
       "Name: vacina_categoria_nome, dtype: float64"
      ]
     },
     "execution_count": 9,
     "metadata": {},
     "output_type": "execute_result"
    }
   ],
   "source": [
    "# Quantidade total de aplicação da 1ª dose da vacina por população de risco, em porcentagem\n",
    "pop_risco = dados.vacina_categoria_nome.value_counts()\n",
    "tt_cat = pop_risco.sum()\n",
    "porcent_pop_risco = (pop_risco/tt_cat)*100\n",
    "porcent_pop_risco\n"
   ]
  },
  {
   "cell_type": "code",
   "execution_count": 50,
   "id": "d0c6f561",
   "metadata": {},
   "outputs": [
    {
     "data": {
      "text/plain": [
       "vacina_fabricante_nome\n",
       "SINOVAC/BUTANTAN          66.100659\n",
       "ASTRAZENECA/FIOCRUZ       29.741116\n",
       "PFIZER                     3.936324\n",
       "ASTRAZENECA                0.192957\n",
       "PFIZER - PEDI?TRICA        0.016080\n",
       "JANSSEN                    0.006432\n",
       "Pendente Identificação     0.006432\n",
       "Name: vacina_fabricante_nome, dtype: float64"
      ]
     },
     "execution_count": 50,
     "metadata": {},
     "output_type": "execute_result"
    }
   ],
   "source": [
    "# Fabricante de vacina por população de risco\n",
    "pop_risco = dados[(dados['vacina_categoria_nome'] != 'Faixa Etária')]\n",
    "grupo_pop_risco = pop_risco.groupby('vacina_categoria_nome')['vacina_fabricante_nome'].value_counts()\n",
    "grupo_trab = grupo_pop_risco['Trabalhadores de Saúde']\n",
    "tt_trab = grupo_pop_risco['Trabalhadores de Saúde'].sum()\n",
    "porcent_trab = (grupo_trab/tt_trab)*100\n",
    "porcent_trab"
   ]
  },
  {
   "cell_type": "code",
   "execution_count": 51,
   "id": "2849f221",
   "metadata": {},
   "outputs": [
    {
     "data": {
      "text/plain": [
       "vacina_fabricante_nome\n",
       "SINOVAC/BUTANTAN                       57.517851\n",
       "ASTRAZENECA/FIOCRUZ                    33.257395\n",
       "PFIZER                                  7.099626\n",
       "ASTRAZENECA                             1.400884\n",
       "Pendente Identificação                  0.316219\n",
       "Pendente Identifica??o                  0.278817\n",
       "PFIZER - PEDI?TRICA                     0.057803\n",
       "PFIZER - PEDIÁTRICA MENOR DE 5 ANOS     0.030602\n",
       "PFIZER - PEDIÁTRICA                     0.027202\n",
       "JANSSEN                                 0.010201\n",
       "SINOVAC                                 0.003400\n",
       "Name: vacina_fabricante_nome, dtype: float64"
      ]
     },
     "execution_count": 51,
     "metadata": {},
     "output_type": "execute_result"
    }
   ],
   "source": [
    "# Fabricante de vacina por população de risco\n",
    "pop_risco = dados[(dados['vacina_categoria_nome'] != 'Faixa Etária')]\n",
    "grupo_pop_risco = pop_risco.groupby('vacina_categoria_nome')['vacina_fabricante_nome'].value_counts()\n",
    "grupo_comorb = grupo_pop_risco['Comorbidades']\n",
    "tt_comorb = grupo_pop_risco['Comorbidades'].sum()\n",
    "porcent_comorb = (grupo_comorb/tt_comorb)*100\n",
    "porcent_comorb"
   ]
  },
  {
   "cell_type": "code",
   "execution_count": 48,
   "id": "9384e21c",
   "metadata": {},
   "outputs": [],
   "source": [
    "# Verificar primeira data de aplicação de vacina e apresentar as populações vacinadas\n",
    "dados['vacina_dataAplicacao'] = pd.to_datetime(dados['vacina_dataAplicacao'], format='%Y-%m-%d')\n",
    "dados_ord = dados.groupby(['vacina_dataAplicacao', 'vacina_categoria_nome']).size().reset_index(name='count')\n",
    "dados_ord = dados_ord.sort_values(by='vacina_dataAplicacao')"
   ]
  }
 ],
 "metadata": {
  "kernelspec": {
   "display_name": "Python 3 (ipykernel)",
   "language": "python",
   "name": "python3"
  },
  "language_info": {
   "codemirror_mode": {
    "name": "ipython",
    "version": 3
   },
   "file_extension": ".py",
   "mimetype": "text/x-python",
   "name": "python",
   "nbconvert_exporter": "python",
   "pygments_lexer": "ipython3",
   "version": "3.9.16"
  }
 },
 "nbformat": 4,
 "nbformat_minor": 5
}
