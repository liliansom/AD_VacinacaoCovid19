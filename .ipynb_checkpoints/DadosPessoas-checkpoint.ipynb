{
 "cells": [
  {
   "cell_type": "markdown",
   "id": "cb0d9a01",
   "metadata": {},
   "source": [
    "## Importações"
   ]
  },
  {
   "cell_type": "code",
   "execution_count": 10,
   "id": "639b2cf8",
   "metadata": {},
   "outputs": [],
   "source": [
    "# Importação das bibliotecas\n",
    "import pandas as pd\n",
    "import matplotlib"
   ]
  },
  {
   "cell_type": "code",
   "execution_count": null,
   "id": "c8dcfb76",
   "metadata": {},
   "outputs": [],
   "source": [
    "# Importação do banco de dados CSV\n",
    "dados = pd.read_csv(r'C:\\Users\\Usuário\\Documents\\GitHub\\Analise_Dados\\DadosVacinaAM.csv', sep=\";\")"
   ]
  },
  {
   "cell_type": "code",
   "execution_count": null,
   "id": "f31c3868",
   "metadata": {},
   "outputs": [],
   "source": [
    "# Listagem das colunas para consulta\n",
    "dados.info()"
   ]
  },
  {
   "cell_type": "markdown",
   "id": "81db01fa",
   "metadata": {},
   "source": [
    "## Tratamento dos dados"
   ]
  },
  {
   "cell_type": "code",
   "execution_count": null,
   "id": "eb6e0be6",
   "metadata": {},
   "outputs": [],
   "source": [
    "# Seleção das colunas a serem analisadas neste projeto\n",
    "dados = dados.loc[:, ['paciente_idade','paciente_enumSexoBiologico','paciente_racaCor_valor','paciente_endereco_nmMunicipio','vacina_categoria_nome','vacina_fabricante_nome','vacina_dataAplicacao','vacina_descricao_dose']]\n",
    "\n",
    "# Filtro a partir da 1ª dose\n",
    "dados_1 = dados[dados['vacina_descricao_dose'] == '1ª Dose']\n",
    "\n",
    "# Filtro 2ª dose\n",
    "dados_2 = dados[dados['vacina_descricao_dose'] == '2ª Dose']\n",
    "\n",
    "# Retirando informações duplicadas\n",
    "dados_1.drop_duplicates(inplace=True)\n",
    "dados_2.drop_duplicates(inplace=True)\n",
    "\n",
    "ttt_idade = dados[dados['paciente_idade'] != 221.0]"
   ]
  },
  {
   "cell_type": "code",
   "execution_count": null,
   "id": "9c9ed6cb",
   "metadata": {},
   "outputs": [],
   "source": []
  },
  {
   "cell_type": "markdown",
   "id": "0412ba45",
   "metadata": {},
   "source": [
    "## Quem são as pessoas vacinadas com a 1ª dose (COVID-19) no estado do Amazonas?"
   ]
  },
  {
   "cell_type": "code",
   "execution_count": 2,
   "id": "b71854a7",
   "metadata": {},
   "outputs": [
    {
     "ename": "NameError",
     "evalue": "name 'dados_1' is not defined",
     "output_type": "error",
     "traceback": [
      "\u001b[1;31m---------------------------------------------------------------------------\u001b[0m",
      "\u001b[1;31mNameError\u001b[0m                                 Traceback (most recent call last)",
      "Cell \u001b[1;32mIn[2], line 2\u001b[0m\n\u001b[0;32m      1\u001b[0m \u001b[38;5;66;03m# Quantidade de aplicações de 1ª dose da vacina por Idade, em porcentagem\u001b[39;00m\n\u001b[1;32m----> 2\u001b[0m idade \u001b[38;5;241m=\u001b[39m \u001b[43mdados_1\u001b[49m\u001b[38;5;241m.\u001b[39mpaciente_idade\u001b[38;5;241m.\u001b[39mvalue_counts()\n\u001b[0;32m      3\u001b[0m tt_idade \u001b[38;5;241m=\u001b[39m idade\u001b[38;5;241m.\u001b[39msum()\n\u001b[0;32m      4\u001b[0m porcent_idade \u001b[38;5;241m=\u001b[39m (idade\u001b[38;5;241m/\u001b[39mtt_idade)\u001b[38;5;241m*\u001b[39m\u001b[38;5;241m100\u001b[39m\n",
      "\u001b[1;31mNameError\u001b[0m: name 'dados_1' is not defined"
     ]
    }
   ],
   "source": [
    "# Quantidade de aplicações de 1ª dose da vacina por Idade, em porcentagem\n",
    "idade = dados_1.paciente_idade.value_counts()\n",
    "tt_idade = idade.sum()\n",
    "porcent_idade = (idade/tt_idade)*100\n",
    "porcent_idade.plot(kind='bar')"
   ]
  },
  {
   "cell_type": "code",
   "execution_count": 3,
   "id": "03e3e6a2",
   "metadata": {},
   "outputs": [
    {
     "ename": "NameError",
     "evalue": "name 'dados_1' is not defined",
     "output_type": "error",
     "traceback": [
      "\u001b[1;31m---------------------------------------------------------------------------\u001b[0m",
      "\u001b[1;31mNameError\u001b[0m                                 Traceback (most recent call last)",
      "Cell \u001b[1;32mIn[3], line 2\u001b[0m\n\u001b[0;32m      1\u001b[0m \u001b[38;5;66;03m# Quantidade de aplicações de 1ª dose da vacina por Raça, em porcentagem\u001b[39;00m\n\u001b[1;32m----> 2\u001b[0m raça \u001b[38;5;241m=\u001b[39m \u001b[43mdados_1\u001b[49m\u001b[38;5;241m.\u001b[39mpaciente_racaCor_valor\u001b[38;5;241m.\u001b[39mvalue_counts(normalize\u001b[38;5;241m=\u001b[39m\u001b[38;5;28;01mTrue\u001b[39;00m)\n\u001b[0;32m      3\u001b[0m tt_raça \u001b[38;5;241m=\u001b[39m raça\u001b[38;5;241m.\u001b[39msum()\n\u001b[0;32m      4\u001b[0m porcent_raça \u001b[38;5;241m=\u001b[39m (raça\u001b[38;5;241m/\u001b[39mtt_raça)\u001b[38;5;241m*\u001b[39m\u001b[38;5;241m100\u001b[39m\n",
      "\u001b[1;31mNameError\u001b[0m: name 'dados_1' is not defined"
     ]
    }
   ],
   "source": [
    "# Quantidade de aplicações de 1ª dose da vacina por Raça, em porcentagem\n",
    "raça = dados_1.paciente_racaCor_valor.value_counts(normalize=True)\n",
    "tt_raça = raça.sum()\n",
    "porcent_raça = (raça/tt_raça)*100\n",
    "porcent_raça.plot(kind='bar', title='Vacinas 1ª dose por Raça, em porcentagem', ylabel='')"
   ]
  },
  {
   "cell_type": "code",
   "execution_count": 4,
   "id": "42d61b16",
   "metadata": {},
   "outputs": [
    {
     "ename": "NameError",
     "evalue": "name 'dados_1' is not defined",
     "output_type": "error",
     "traceback": [
      "\u001b[1;31m---------------------------------------------------------------------------\u001b[0m",
      "\u001b[1;31mNameError\u001b[0m                                 Traceback (most recent call last)",
      "Cell \u001b[1;32mIn[4], line 2\u001b[0m\n\u001b[0;32m      1\u001b[0m \u001b[38;5;66;03m# Quantidade de aplicações de 1ª dose da vacina por sexo, em porcentagem\u001b[39;00m\n\u001b[1;32m----> 2\u001b[0m sexo \u001b[38;5;241m=\u001b[39m \u001b[43mdados_1\u001b[49m\u001b[38;5;241m.\u001b[39mpaciente_enumSexoBiologico\u001b[38;5;241m.\u001b[39mvalue_counts(normalize\u001b[38;5;241m=\u001b[39m\u001b[38;5;28;01mTrue\u001b[39;00m)\n\u001b[0;32m      3\u001b[0m sexo\n",
      "\u001b[1;31mNameError\u001b[0m: name 'dados_1' is not defined"
     ]
    }
   ],
   "source": [
    "# Quantidade de aplicações de 1ª dose da vacina por sexo, em porcentagem\n",
    "sexo = dados_1.paciente_enumSexoBiologico.value_counts(normalize=True)\n",
    "sexo"
   ]
  },
  {
   "cell_type": "code",
   "execution_count": 5,
   "id": "9f6faf43",
   "metadata": {},
   "outputs": [
    {
     "ename": "NameError",
     "evalue": "name 'dados_1' is not defined",
     "output_type": "error",
     "traceback": [
      "\u001b[1;31m---------------------------------------------------------------------------\u001b[0m",
      "\u001b[1;31mNameError\u001b[0m                                 Traceback (most recent call last)",
      "Cell \u001b[1;32mIn[5], line 2\u001b[0m\n\u001b[0;32m      1\u001b[0m \u001b[38;5;66;03m# Quantidade de aplicações de 1ª dose da vacina por Município, em porcentagem\u001b[39;00m\n\u001b[1;32m----> 2\u001b[0m tt_munic \u001b[38;5;241m=\u001b[39m \u001b[43mdados_1\u001b[49m\u001b[38;5;241m.\u001b[39mpaciente_endereco_nmMunicipio\u001b[38;5;241m.\u001b[39mvalue_counts()\n\u001b[0;32m      3\u001b[0m tt_pac \u001b[38;5;241m=\u001b[39m tt_munic\u001b[38;5;241m.\u001b[39msum()\n\u001b[0;32m      4\u001b[0m porcent_munic \u001b[38;5;241m=\u001b[39m (tt_munic\u001b[38;5;241m/\u001b[39mtt_pac)\u001b[38;5;241m*\u001b[39m\u001b[38;5;241m100\u001b[39m\n",
      "\u001b[1;31mNameError\u001b[0m: name 'dados_1' is not defined"
     ]
    }
   ],
   "source": [
    "# Quantidade de aplicações de 1ª dose da vacina por Município, em porcentagem\n",
    "tt_munic = dados_1.paciente_endereco_nmMunicipio.value_counts()\n",
    "tt_pac = tt_munic.sum()\n",
    "porcent_munic = (tt_munic/tt_pac)*100\n",
    "porcent_munic"
   ]
  },
  {
   "cell_type": "code",
   "execution_count": 6,
   "id": "cb57898b",
   "metadata": {},
   "outputs": [
    {
     "ename": "NameError",
     "evalue": "name 'dados_1' is not defined",
     "output_type": "error",
     "traceback": [
      "\u001b[1;31m---------------------------------------------------------------------------\u001b[0m",
      "\u001b[1;31mNameError\u001b[0m                                 Traceback (most recent call last)",
      "Cell \u001b[1;32mIn[6], line 2\u001b[0m\n\u001b[0;32m      1\u001b[0m \u001b[38;5;66;03m# Quantidade total de aplicação da 1ª dose da vacina por população de risco, em porcentagem\u001b[39;00m\n\u001b[1;32m----> 2\u001b[0m pop_risco \u001b[38;5;241m=\u001b[39m \u001b[43mdados_1\u001b[49m\u001b[38;5;241m.\u001b[39mvacina_categoria_nome\u001b[38;5;241m.\u001b[39mvalue_counts()\n\u001b[0;32m      3\u001b[0m tt_cat \u001b[38;5;241m=\u001b[39m pop_risco\u001b[38;5;241m.\u001b[39msum()\n\u001b[0;32m      4\u001b[0m porcent_pop_risco \u001b[38;5;241m=\u001b[39m (pop_risco\u001b[38;5;241m/\u001b[39mtt_cat)\u001b[38;5;241m*\u001b[39m\u001b[38;5;241m100\u001b[39m\n",
      "\u001b[1;31mNameError\u001b[0m: name 'dados_1' is not defined"
     ]
    }
   ],
   "source": [
    "# Quantidade total de aplicação da 1ª dose da vacina por população de risco, em porcentagem\n",
    "pop_risco = dados_1.vacina_categoria_nome.value_counts()\n",
    "tt_cat = pop_risco.sum()\n",
    "porcent_pop_risco = (pop_risco/tt_cat)*100\n",
    "porcent_pop_risco = round(porcent_pop_risco, 2)\n",
    "porcent_pop_risco"
   ]
  },
  {
   "cell_type": "code",
   "execution_count": 7,
   "id": "e9ea643b",
   "metadata": {},
   "outputs": [
    {
     "ename": "NameError",
     "evalue": "name 'dados_1' is not defined",
     "output_type": "error",
     "traceback": [
      "\u001b[1;31m---------------------------------------------------------------------------\u001b[0m",
      "\u001b[1;31mNameError\u001b[0m                                 Traceback (most recent call last)",
      "Cell \u001b[1;32mIn[7], line 2\u001b[0m\n\u001b[0;32m      1\u001b[0m \u001b[38;5;66;03m# Fabricante de vacina por população de risco (trabalhadores da saúde) 1ª dose\u001b[39;00m\n\u001b[1;32m----> 2\u001b[0m pop_risco \u001b[38;5;241m=\u001b[39m \u001b[43mdados_1\u001b[49m[(dados_1[\u001b[38;5;124m'\u001b[39m\u001b[38;5;124mvacina_categoria_nome\u001b[39m\u001b[38;5;124m'\u001b[39m] \u001b[38;5;241m!=\u001b[39m \u001b[38;5;124m'\u001b[39m\u001b[38;5;124mFaixa Etária\u001b[39m\u001b[38;5;124m'\u001b[39m)]\n\u001b[0;32m      3\u001b[0m grupo_pop_risco \u001b[38;5;241m=\u001b[39m pop_risco\u001b[38;5;241m.\u001b[39mgroupby(\u001b[38;5;124m'\u001b[39m\u001b[38;5;124mvacina_categoria_nome\u001b[39m\u001b[38;5;124m'\u001b[39m)[\u001b[38;5;124m'\u001b[39m\u001b[38;5;124mvacina_fabricante_nome\u001b[39m\u001b[38;5;124m'\u001b[39m]\u001b[38;5;241m.\u001b[39mvalue_counts()\n\u001b[0;32m      4\u001b[0m grupo_trab \u001b[38;5;241m=\u001b[39m grupo_pop_risco[\u001b[38;5;124m'\u001b[39m\u001b[38;5;124mTrabalhadores de Saúde\u001b[39m\u001b[38;5;124m'\u001b[39m]\n",
      "\u001b[1;31mNameError\u001b[0m: name 'dados_1' is not defined"
     ]
    }
   ],
   "source": [
    "# Fabricante de vacina por população de risco (trabalhadores da saúde) 1ª dose\n",
    "pop_risco = dados_1[(dados_1['vacina_categoria_nome'] != 'Faixa Etária')]\n",
    "grupo_pop_risco = pop_risco.groupby('vacina_categoria_nome')['vacina_fabricante_nome'].value_counts()\n",
    "grupo_trab = grupo_pop_risco['Trabalhadores de Saúde']\n",
    "tt_trab = grupo_pop_risco['Trabalhadores de Saúde'].sum()\n",
    "porcent_trab = (grupo_trab/tt_trab)*100\n",
    "porcent_trab = round(porcent_trab, 2)\n",
    "porcent_trab"
   ]
  },
  {
   "cell_type": "code",
   "execution_count": 8,
   "id": "82647c04",
   "metadata": {},
   "outputs": [
    {
     "ename": "NameError",
     "evalue": "name 'dados_1' is not defined",
     "output_type": "error",
     "traceback": [
      "\u001b[1;31m---------------------------------------------------------------------------\u001b[0m",
      "\u001b[1;31mNameError\u001b[0m                                 Traceback (most recent call last)",
      "Cell \u001b[1;32mIn[8], line 2\u001b[0m\n\u001b[0;32m      1\u001b[0m \u001b[38;5;66;03m# Fabricante de vacina por população de risco (comorbidades) 1ª dose\u001b[39;00m\n\u001b[1;32m----> 2\u001b[0m pop_risco \u001b[38;5;241m=\u001b[39m \u001b[43mdados_1\u001b[49m[(dados_1[\u001b[38;5;124m'\u001b[39m\u001b[38;5;124mvacina_categoria_nome\u001b[39m\u001b[38;5;124m'\u001b[39m] \u001b[38;5;241m!=\u001b[39m \u001b[38;5;124m'\u001b[39m\u001b[38;5;124mFaixa Etária\u001b[39m\u001b[38;5;124m'\u001b[39m)]\n\u001b[0;32m      3\u001b[0m grupo_pop_risco \u001b[38;5;241m=\u001b[39m pop_risco\u001b[38;5;241m.\u001b[39mgroupby(\u001b[38;5;124m'\u001b[39m\u001b[38;5;124mvacina_categoria_nome\u001b[39m\u001b[38;5;124m'\u001b[39m)[\u001b[38;5;124m'\u001b[39m\u001b[38;5;124mvacina_fabricante_nome\u001b[39m\u001b[38;5;124m'\u001b[39m]\u001b[38;5;241m.\u001b[39mvalue_counts()\n\u001b[0;32m      4\u001b[0m grupo_comorb \u001b[38;5;241m=\u001b[39m grupo_pop_risco[\u001b[38;5;124m'\u001b[39m\u001b[38;5;124mComorbidades\u001b[39m\u001b[38;5;124m'\u001b[39m]\n",
      "\u001b[1;31mNameError\u001b[0m: name 'dados_1' is not defined"
     ]
    }
   ],
   "source": [
    "# Fabricante de vacina por população de risco (comorbidades) 1ª dose\n",
    "pop_risco = dados_1[(dados_1['vacina_categoria_nome'] != 'Faixa Etária')]\n",
    "grupo_pop_risco = pop_risco.groupby('vacina_categoria_nome')['vacina_fabricante_nome'].value_counts()\n",
    "grupo_comorb = grupo_pop_risco['Comorbidades']\n",
    "tt_comorb = grupo_pop_risco['Comorbidades'].sum()\n",
    "porcent_comorb = (grupo_comorb/tt_comorb)*100\n",
    "porcent_comorb = round(porcent_comorb, 2)\n",
    "porcent_comorb"
   ]
  },
  {
   "cell_type": "code",
   "execution_count": 13,
   "id": "ca3ce8a6",
   "metadata": {
    "scrolled": true
   },
   "outputs": [
    {
     "ename": "NameError",
     "evalue": "name 'dados_1' is not defined",
     "output_type": "error",
     "traceback": [
      "\u001b[1;31m---------------------------------------------------------------------------\u001b[0m",
      "\u001b[1;31mNameError\u001b[0m                                 Traceback (most recent call last)",
      "Cell \u001b[1;32mIn[13], line 2\u001b[0m\n\u001b[0;32m      1\u001b[0m \u001b[38;5;66;03m# Verificar primeira data de aplicação de vacina e apresentar as populações vacinadas\u001b[39;00m\n\u001b[1;32m----> 2\u001b[0m dados_1[\u001b[38;5;124m'\u001b[39m\u001b[38;5;124mvacina_dataAplicacao\u001b[39m\u001b[38;5;124m'\u001b[39m] \u001b[38;5;241m=\u001b[39m pd\u001b[38;5;241m.\u001b[39mto_datetime(\u001b[43mdados_1\u001b[49m[\u001b[38;5;124m'\u001b[39m\u001b[38;5;124mvacina_dataAplicacao\u001b[39m\u001b[38;5;124m'\u001b[39m], \u001b[38;5;28mformat\u001b[39m\u001b[38;5;241m=\u001b[39m\u001b[38;5;124m'\u001b[39m\u001b[38;5;124m%\u001b[39m\u001b[38;5;124mY-\u001b[39m\u001b[38;5;124m%\u001b[39m\u001b[38;5;124mm-\u001b[39m\u001b[38;5;132;01m%d\u001b[39;00m\u001b[38;5;124m'\u001b[39m)\n\u001b[0;32m      3\u001b[0m dados_ord \u001b[38;5;241m=\u001b[39m dados_1\u001b[38;5;241m.\u001b[39mgroupby([\u001b[38;5;124m'\u001b[39m\u001b[38;5;124mvacina_dataAplicacao\u001b[39m\u001b[38;5;124m'\u001b[39m, \u001b[38;5;124m'\u001b[39m\u001b[38;5;124mvacina_categoria_nome\u001b[39m\u001b[38;5;124m'\u001b[39m])\u001b[38;5;241m.\u001b[39msize()\u001b[38;5;241m.\u001b[39mreset_index(name\u001b[38;5;241m=\u001b[39m\u001b[38;5;124m'\u001b[39m\u001b[38;5;124mcount\u001b[39m\u001b[38;5;124m'\u001b[39m)\n\u001b[0;32m      4\u001b[0m dados_ord \u001b[38;5;241m=\u001b[39m dados_ord\u001b[38;5;241m.\u001b[39msort_values(by\u001b[38;5;241m=\u001b[39m\u001b[38;5;124m'\u001b[39m\u001b[38;5;124mvacina_dataAplicacao\u001b[39m\u001b[38;5;124m'\u001b[39m)\n",
      "\u001b[1;31mNameError\u001b[0m: name 'dados_1' is not defined"
     ]
    }
   ],
   "source": [
    "# Verificar primeira data de aplicação de vacina e apresentar as populações vacinadas\n",
    "dados_1['vacina_dataAplicacao'] = pd.to_datetime(dados_1['vacina_dataAplicacao'], format='%Y-%m-%d')\n",
    "dados_ord = dados_1.groupby(['vacina_dataAplicacao', 'vacina_categoria_nome']).size().reset_index(name='count')\n",
    "dados_ord = dados_ord.sort_values(by='vacina_dataAplicacao')"
   ]
  },
  {
   "cell_type": "code",
   "execution_count": null,
   "id": "c1e56815",
   "metadata": {},
   "outputs": [],
   "source": []
  },
  {
   "cell_type": "markdown",
   "id": "d7637cfc",
   "metadata": {},
   "source": [
    "# Problema\n",
    "Há diferença entre o perfil das pessoas que tomaram a segunda dose no Amazonas? Qual a distância média entre a casa e o local de aplicação? (contabilizar 1 dose e 2 doses e 3 doses)"
   ]
  }
 ],
 "metadata": {
  "kernelspec": {
   "display_name": "Python 3 (ipykernel)",
   "language": "python",
   "name": "python3"
  },
  "language_info": {
   "codemirror_mode": {
    "name": "ipython",
    "version": 3
   },
   "file_extension": ".py",
   "mimetype": "text/x-python",
   "name": "python",
   "nbconvert_exporter": "python",
   "pygments_lexer": "ipython3",
   "version": "3.9.16"
  }
 },
 "nbformat": 4,
 "nbformat_minor": 5
}
