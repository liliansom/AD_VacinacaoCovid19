{
 "cells": [
  {
   "cell_type": "code",
   "execution_count": 1,
   "id": "e81df524",
   "metadata": {},
   "outputs": [],
   "source": [
    "# Importação das bibliotecas\n",
    "import pandas as pd\n",
    "import matplotlib as plt"
   ]
  },
  {
   "cell_type": "code",
   "execution_count": 2,
   "id": "1079b86e",
   "metadata": {},
   "outputs": [
    {
     "name": "stderr",
     "output_type": "stream",
     "text": [
      "C:\\Users\\Usuário\\AppData\\Local\\Temp\\ipykernel_648\\3544363823.py:2: DtypeWarning: Columns (7,8) have mixed types. Specify dtype option on import or set low_memory=False.\n",
      "  dados = pd.read_csv(r'C:\\Users\\Usuário\\Documents\\GitHub\\Analise_Dados\\DadosVacinaAM.csv', sep=\";\")\n"
     ]
    }
   ],
   "source": [
    "# Importação do banco de dados CSV\n",
    "dados = pd.read_csv(r'C:\\Users\\Usuário\\Documents\\GitHub\\Analise_Dados\\DadosVacinaAM.csv', sep=\";\")"
   ]
  },
  {
   "cell_type": "code",
   "execution_count": 3,
   "id": "7a230312",
   "metadata": {},
   "outputs": [
    {
     "name": "stdout",
     "output_type": "stream",
     "text": [
      "<class 'pandas.core.frame.DataFrame'>\n",
      "RangeIndex: 1708357 entries, 0 to 1708356\n",
      "Data columns (total 32 columns):\n",
      " #   Column                                    Dtype  \n",
      "---  ------                                    -----  \n",
      " 0   document_id                               object \n",
      " 1   paciente_id                               object \n",
      " 2   paciente_idade                            float64\n",
      " 3   paciente_dataNascimento                   object \n",
      " 4   paciente_enumSexoBiologico                object \n",
      " 5   paciente_racaCor_codigo                   float64\n",
      " 6   paciente_racaCor_valor                    object \n",
      " 7   paciente_endereco_coIbgeMunicipio         object \n",
      " 8   paciente_endereco_coPais                  object \n",
      " 9   paciente_endereco_nmMunicipio             object \n",
      " 10  paciente_endereco_nmPais                  object \n",
      " 11  paciente_endereco_uf                      object \n",
      " 12  paciente_endereco_cep                     object \n",
      " 13  paciente_nacionalidade_enumNacionalidade  object \n",
      " 14  estabelecimento_valor                     int64  \n",
      " 15  estabelecimento_razaoSocial               object \n",
      " 16  estalecimento_noFantasia                  object \n",
      " 17  estabelecimento_municipio_codigo          int64  \n",
      " 18  estabelecimento_municipio_nome            object \n",
      " 19  estabelecimento_uf                        object \n",
      " 20  vacina_grupoAtendimento_codigo            float64\n",
      " 21  vacina_grupoAtendimento_nome              object \n",
      " 22  vacina_categoria_codigo                   float64\n",
      " 23  vacina_categoria_nome                     object \n",
      " 24  vacina_lote                               object \n",
      " 25  vacina_fabricante_nome                    object \n",
      " 26  vacina_fabricante_referencia              object \n",
      " 27  vacina_dataAplicacao                      object \n",
      " 28  vacina_descricao_dose                     object \n",
      " 29  vacina_codigo                             int64  \n",
      " 30  vacina_nome                               object \n",
      " 31  sistema_origem                            object \n",
      "dtypes: float64(4), int64(3), object(25)\n",
      "memory usage: 417.1+ MB\n"
     ]
    }
   ],
   "source": [
    "# Listagem das colunas para consulta\n",
    "dados.info()"
   ]
  },
  {
   "cell_type": "code",
   "execution_count": 4,
   "id": "76098197",
   "metadata": {},
   "outputs": [
    {
     "data": {
      "text/html": [
       "<div>\n",
       "<style scoped>\n",
       "    .dataframe tbody tr th:only-of-type {\n",
       "        vertical-align: middle;\n",
       "    }\n",
       "\n",
       "    .dataframe tbody tr th {\n",
       "        vertical-align: top;\n",
       "    }\n",
       "\n",
       "    .dataframe thead th {\n",
       "        text-align: right;\n",
       "    }\n",
       "</style>\n",
       "<table border=\"1\" class=\"dataframe\">\n",
       "  <thead>\n",
       "    <tr style=\"text-align: right;\">\n",
       "      <th></th>\n",
       "      <th>paciente_idade</th>\n",
       "      <th>paciente_enumSexoBiologico</th>\n",
       "      <th>paciente_racaCor_valor</th>\n",
       "      <th>paciente_endereco_nmMunicipio</th>\n",
       "      <th>vacina_categoria_nome</th>\n",
       "      <th>vacina_fabricante_nome</th>\n",
       "      <th>vacina_dataAplicacao</th>\n",
       "      <th>vacina_descricao_dose</th>\n",
       "    </tr>\n",
       "  </thead>\n",
       "  <tbody>\n",
       "    <tr>\n",
       "      <th>0</th>\n",
       "      <td>31.0</td>\n",
       "      <td>M</td>\n",
       "      <td>PARDA</td>\n",
       "      <td>MANAUS</td>\n",
       "      <td>Faixa Etária</td>\n",
       "      <td>SINOVAC/BUTANTAN</td>\n",
       "      <td>2021-08-02</td>\n",
       "      <td>2ª Dose</td>\n",
       "    </tr>\n",
       "    <tr>\n",
       "      <th>1</th>\n",
       "      <td>21.0</td>\n",
       "      <td>F</td>\n",
       "      <td>AMARELA</td>\n",
       "      <td>TEFE</td>\n",
       "      <td>Faixa Etária</td>\n",
       "      <td>ASTRAZENECA/FIOCRUZ</td>\n",
       "      <td>2021-10-08</td>\n",
       "      <td>2ª Dose</td>\n",
       "    </tr>\n",
       "    <tr>\n",
       "      <th>2</th>\n",
       "      <td>11.0</td>\n",
       "      <td>F</td>\n",
       "      <td>PARDA</td>\n",
       "      <td>MANAUS</td>\n",
       "      <td>NaN</td>\n",
       "      <td>SINOVAC/BUTANTAN</td>\n",
       "      <td>2022-07-28</td>\n",
       "      <td>2ª Dose</td>\n",
       "    </tr>\n",
       "    <tr>\n",
       "      <th>3</th>\n",
       "      <td>18.0</td>\n",
       "      <td>M</td>\n",
       "      <td>SEM INFORMACAO</td>\n",
       "      <td>MANAUS</td>\n",
       "      <td>Faixa Etária</td>\n",
       "      <td>PFIZER</td>\n",
       "      <td>2022-01-12</td>\n",
       "      <td>2ª Dose</td>\n",
       "    </tr>\n",
       "    <tr>\n",
       "      <th>4</th>\n",
       "      <td>40.0</td>\n",
       "      <td>F</td>\n",
       "      <td>BRANCA</td>\n",
       "      <td>MANAUS</td>\n",
       "      <td>Faixa Etária</td>\n",
       "      <td>ASTRAZENECA/FIOCRUZ</td>\n",
       "      <td>2021-08-28</td>\n",
       "      <td>2ª Dose</td>\n",
       "    </tr>\n",
       "    <tr>\n",
       "      <th>...</th>\n",
       "      <td>...</td>\n",
       "      <td>...</td>\n",
       "      <td>...</td>\n",
       "      <td>...</td>\n",
       "      <td>...</td>\n",
       "      <td>...</td>\n",
       "      <td>...</td>\n",
       "      <td>...</td>\n",
       "    </tr>\n",
       "    <tr>\n",
       "      <th>611166</th>\n",
       "      <td>6.0</td>\n",
       "      <td>M</td>\n",
       "      <td>PARDA</td>\n",
       "      <td>MANAUS</td>\n",
       "      <td>NaN</td>\n",
       "      <td>SINOVAC/BUTANTAN</td>\n",
       "      <td>2022-10-18</td>\n",
       "      <td>2ª Dose</td>\n",
       "    </tr>\n",
       "    <tr>\n",
       "      <th>611167</th>\n",
       "      <td>29.0</td>\n",
       "      <td>M</td>\n",
       "      <td>PARDA</td>\n",
       "      <td>MANAUS</td>\n",
       "      <td>Faixa Etária</td>\n",
       "      <td>PFIZER</td>\n",
       "      <td>2022-06-27</td>\n",
       "      <td>2ª Dose</td>\n",
       "    </tr>\n",
       "    <tr>\n",
       "      <th>611168</th>\n",
       "      <td>49.0</td>\n",
       "      <td>F</td>\n",
       "      <td>PARDA</td>\n",
       "      <td>MANAUS</td>\n",
       "      <td>Faixa Etária</td>\n",
       "      <td>ASTRAZENECA/FIOCRUZ</td>\n",
       "      <td>2021-09-03</td>\n",
       "      <td>2ª Dose</td>\n",
       "    </tr>\n",
       "    <tr>\n",
       "      <th>611169</th>\n",
       "      <td>32.0</td>\n",
       "      <td>M</td>\n",
       "      <td>PRETA</td>\n",
       "      <td>MANAUS</td>\n",
       "      <td>Faixa Etária</td>\n",
       "      <td>PFIZER</td>\n",
       "      <td>2021-12-16</td>\n",
       "      <td>2ª Dose</td>\n",
       "    </tr>\n",
       "    <tr>\n",
       "      <th>611170</th>\n",
       "      <td>32.0</td>\n",
       "      <td>F</td>\n",
       "      <td>PARDA</td>\n",
       "      <td>MANAUS</td>\n",
       "      <td>Faixa Etária</td>\n",
       "      <td>PFIZER</td>\n",
       "      <td>2022-04-06</td>\n",
       "      <td>2ª Dose</td>\n",
       "    </tr>\n",
       "  </tbody>\n",
       "</table>\n",
       "<p>611171 rows × 8 columns</p>\n",
       "</div>"
      ],
      "text/plain": [
       "        paciente_idade paciente_enumSexoBiologico paciente_racaCor_valor  \\\n",
       "0                 31.0                          M                  PARDA   \n",
       "1                 21.0                          F                AMARELA   \n",
       "2                 11.0                          F                  PARDA   \n",
       "3                 18.0                          M         SEM INFORMACAO   \n",
       "4                 40.0                          F                 BRANCA   \n",
       "...                ...                        ...                    ...   \n",
       "611166             6.0                          M                  PARDA   \n",
       "611167            29.0                          M                  PARDA   \n",
       "611168            49.0                          F                  PARDA   \n",
       "611169            32.0                          M                  PRETA   \n",
       "611170            32.0                          F                  PARDA   \n",
       "\n",
       "       paciente_endereco_nmMunicipio vacina_categoria_nome  \\\n",
       "0                             MANAUS          Faixa Etária   \n",
       "1                               TEFE          Faixa Etária   \n",
       "2                             MANAUS                   NaN   \n",
       "3                             MANAUS          Faixa Etária   \n",
       "4                             MANAUS          Faixa Etária   \n",
       "...                              ...                   ...   \n",
       "611166                        MANAUS                   NaN   \n",
       "611167                        MANAUS          Faixa Etária   \n",
       "611168                        MANAUS          Faixa Etária   \n",
       "611169                        MANAUS          Faixa Etária   \n",
       "611170                        MANAUS          Faixa Etária   \n",
       "\n",
       "       vacina_fabricante_nome vacina_dataAplicacao vacina_descricao_dose  \n",
       "0            SINOVAC/BUTANTAN           2021-08-02               2ª Dose  \n",
       "1         ASTRAZENECA/FIOCRUZ           2021-10-08               2ª Dose  \n",
       "2            SINOVAC/BUTANTAN           2022-07-28               2ª Dose  \n",
       "3                      PFIZER           2022-01-12               2ª Dose  \n",
       "4         ASTRAZENECA/FIOCRUZ           2021-08-28               2ª Dose  \n",
       "...                       ...                  ...                   ...  \n",
       "611166       SINOVAC/BUTANTAN           2022-10-18               2ª Dose  \n",
       "611167                 PFIZER           2022-06-27               2ª Dose  \n",
       "611168    ASTRAZENECA/FIOCRUZ           2021-09-03               2ª Dose  \n",
       "611169                 PFIZER           2021-12-16               2ª Dose  \n",
       "611170                 PFIZER           2022-04-06               2ª Dose  \n",
       "\n",
       "[611171 rows x 8 columns]"
      ]
     },
     "execution_count": 4,
     "metadata": {},
     "output_type": "execute_result"
    }
   ],
   "source": [
    "# Seleção das colunas a serem analisadas neste projeto\n",
    "dados = dados.loc[:, ['paciente_idade','paciente_enumSexoBiologico','paciente_racaCor_valor','paciente_endereco_nmMunicipio','vacina_categoria_nome','vacina_fabricante_nome','vacina_dataAplicacao','vacina_descricao_dose']]\n",
    "\n",
    "# Filtro a partir da 1ª dose\n",
    "dados_2 = dados.loc[(dados['vacina_descricao_dose'] == '2ª Dose') | (dados['vacina_descricao_dose'] == '2ª Dose Revacinação') | (dados['vacina_descricao_dose'] == '2º Reforço')]\n",
    "\n",
    "# Excluindo registros com paciente_idade igual a 221.0\n",
    "dados_2 = dados_2[dados_2['paciente_idade'] != 221.0]\n",
    "\n",
    "# Resetando o índice do dataframe\n",
    "dados_2.reset_index(drop=True, inplace=True)\n",
    "\n",
    "dados_2"
   ]
  },
  {
   "cell_type": "code",
   "execution_count": 5,
   "id": "22f7375a",
   "metadata": {},
   "outputs": [
    {
     "name": "stdout",
     "output_type": "stream",
     "text": [
      "A média de idade das pessoas é: 35.47 anos.\n"
     ]
    }
   ],
   "source": [
    "# Quantidade de aplicações de 1ª dose da vacina por Idade, em porcentagem\n",
    "idade = dados_2.paciente_idade.value_counts()\n",
    "soma_idades = (idade.index * idade).sum()\n",
    "n_pessoas = idade.sum()\n",
    "media_idade = soma_idades / n_pessoas\n",
    "print(\"A média de idade das pessoas é: {:.2f} anos.\".format(media_idade))"
   ]
  },
  {
   "cell_type": "code",
   "execution_count": 6,
   "id": "190af62e",
   "metadata": {},
   "outputs": [
    {
     "data": {
      "text/html": [
       "<div>\n",
       "<style scoped>\n",
       "    .dataframe tbody tr th:only-of-type {\n",
       "        vertical-align: middle;\n",
       "    }\n",
       "\n",
       "    .dataframe tbody tr th {\n",
       "        vertical-align: top;\n",
       "    }\n",
       "\n",
       "    .dataframe thead th {\n",
       "        text-align: right;\n",
       "    }\n",
       "</style>\n",
       "<table border=\"1\" class=\"dataframe\">\n",
       "  <thead>\n",
       "    <tr style=\"text-align: right;\">\n",
       "      <th></th>\n",
       "      <th>Faixa_Etária</th>\n",
       "      <th>Porcentagem</th>\n",
       "    </tr>\n",
       "  </thead>\n",
       "  <tbody>\n",
       "    <tr>\n",
       "      <th>0</th>\n",
       "      <td>0-11</td>\n",
       "      <td>7.912831</td>\n",
       "    </tr>\n",
       "    <tr>\n",
       "      <th>1</th>\n",
       "      <td>12-17</td>\n",
       "      <td>10.903854</td>\n",
       "    </tr>\n",
       "    <tr>\n",
       "      <th>2</th>\n",
       "      <td>18-29</td>\n",
       "      <td>23.983011</td>\n",
       "    </tr>\n",
       "    <tr>\n",
       "      <th>3</th>\n",
       "      <td>30-39</td>\n",
       "      <td>18.118315</td>\n",
       "    </tr>\n",
       "    <tr>\n",
       "      <th>4</th>\n",
       "      <td>40-49</td>\n",
       "      <td>15.940065</td>\n",
       "    </tr>\n",
       "    <tr>\n",
       "      <th>5</th>\n",
       "      <td>50-59</td>\n",
       "      <td>11.046735</td>\n",
       "    </tr>\n",
       "    <tr>\n",
       "      <th>6</th>\n",
       "      <td>60-69</td>\n",
       "      <td>7.329847</td>\n",
       "    </tr>\n",
       "    <tr>\n",
       "      <th>7</th>\n",
       "      <td>70-79</td>\n",
       "      <td>3.359766</td>\n",
       "    </tr>\n",
       "    <tr>\n",
       "      <th>8</th>\n",
       "      <td>80-89</td>\n",
       "      <td>1.187898</td>\n",
       "    </tr>\n",
       "    <tr>\n",
       "      <th>9</th>\n",
       "      <td>90-99</td>\n",
       "      <td>0.217678</td>\n",
       "    </tr>\n",
       "  </tbody>\n",
       "</table>\n",
       "</div>"
      ],
      "text/plain": [
       "  Faixa_Etária  Porcentagem\n",
       "0         0-11     7.912831\n",
       "1        12-17    10.903854\n",
       "2        18-29    23.983011\n",
       "3        30-39    18.118315\n",
       "4        40-49    15.940065\n",
       "5        50-59    11.046735\n",
       "6        60-69     7.329847\n",
       "7        70-79     3.359766\n",
       "8        80-89     1.187898\n",
       "9        90-99     0.217678"
      ]
     },
     "execution_count": 6,
     "metadata": {},
     "output_type": "execute_result"
    }
   ],
   "source": [
    "faixas_etarias = [(0, 11), (12, 17), (18, 29), (30, 39), (40, 49), (50, 59), (60, 69), (70, 79), (80, 89), (90, 99)]\n",
    "\n",
    "# Contagem de pacientes em cada faixa etária\n",
    "pacientes_por_faixa = []\n",
    "\n",
    "for faixa in faixas_etarias:\n",
    "    pacientes_por_faixa.append(((dados_2['paciente_idade'] >= faixa[0]) & (dados_2['paciente_idade'] <= faixa[1])).sum())\n",
    "\n",
    "# Criando um dataframe com a contagem de pacientes por faixa etária\n",
    "df_pacientes_por_faixa = pd.DataFrame({'Faixa_Etária': [f'{faixa[0]}-{faixa[1]}' for faixa in faixas_etarias], 'pacientes': pacientes_por_faixa})\n",
    "\n",
    "# Quantidade de aplicações de 2ª dose da vacina por faixa etária, em porcentagem\n",
    "tt_pacientes = df_pacientes_por_faixa['pacientes'].sum()\n",
    "porcent_p = (df_pacientes_por_faixa['pacientes'] / tt_pacientes) * 100\n",
    "for faixa in faixas_etarias:\n",
    "    df_porcent_p = pd.DataFrame({'Faixa_Etária': [f'{faixa[0]}-{faixa[1]}' for faixa in faixas_etarias], 'Porcentagem': porcent_p})\n",
    "\n",
    "# exibir DataFrame com as porcentagens\n",
    "df_porcent_p\n"
   ]
  },
  {
   "cell_type": "code",
   "execution_count": 7,
   "id": "f4f8fe85",
   "metadata": {},
   "outputs": [
    {
     "data": {
      "text/plain": [
       "<Axes: xlabel='Faixa_Etária', ylabel='Porcentagem'>"
      ]
     },
     "execution_count": 7,
     "metadata": {},
     "output_type": "execute_result"
    },
    {
     "data": {
      "image/png": "[encoded data removed]",
      "text/plain": [
       "<Figure size 640x480 with 1 Axes>"
      ]
     },
     "metadata": {},
     "output_type": "display_data"
    }
   ],
   "source": [
    "porcent_p.plot(xlabel='Faixa_Etária', ylabel='Porcentagem')"
   ]
  },
  {
   "cell_type": "code",
   "execution_count": 8,
   "id": "6c43a1c7",
   "metadata": {
    "scrolled": true
   },
   "outputs": [
    {
     "data": {
      "text/plain": [
       "PARDA             53.734728\n",
       "SEM INFORMACAO    17.860690\n",
       "AMARELA           17.319105\n",
       "BRANCA             6.387922\n",
       "INDIGENA           3.750190\n",
       "PRETA              0.947365\n",
       "Name: paciente_racaCor_valor, dtype: float64"
      ]
     },
     "execution_count": 8,
     "metadata": {},
     "output_type": "execute_result"
    }
   ],
   "source": [
    "# Quantidade de aplicações de 1ª dose da vacina por Raça, em porcentagem\n",
    "raça = dados_2.paciente_racaCor_valor.value_counts(normalize=True)\n",
    "tt_raça = raça.sum()\n",
    "porcent_raça = (raça/tt_raça)*100\n",
    "porcent_raça"
   ]
  },
  {
   "cell_type": "code",
   "execution_count": 9,
   "id": "1fc2caae",
   "metadata": {},
   "outputs": [
    {
     "data": {
      "text/plain": [
       "<Axes: title={'center': 'Vacinas 2ª dose por Raça, em porcentagem'}>"
      ]
     },
     "execution_count": 9,
     "metadata": {},
     "output_type": "execute_result"
    },
    {
     "data": {
      "image/png": "[encoded data removed]",
      "text/plain": [
       "<Figure size 640x480 with 1 Axes>"
      ]
     },
     "metadata": {},
     "output_type": "display_data"
    }
   ],
   "source": [
    "porcent_raça.plot(kind='bar', title='Vacinas 2ª dose por Raça, em porcentagem', ylabel='')"
   ]
  },
  {
   "cell_type": "code",
   "execution_count": 10,
   "id": "f49b1f3a",
   "metadata": {},
   "outputs": [
    {
     "name": "stdout",
     "output_type": "stream",
     "text": [
      "Em relação ao sexo das pessoas que tomaram a 2ª dose da vacina: 52.40% são do sexo Feminino, 47.60% do sexo Masculino e 0.00% Indefinido.\n"
     ]
    }
   ],
   "source": [
    "# Quantidade de aplicações de 1ª dose da vacina por sexo, em porcentagem\n",
    "sexo = dados_2.paciente_enumSexoBiologico.value_counts(normalize=True) * 100\n",
    "print(f\"Em relação ao sexo das pessoas que tomaram a 2ª dose da vacina: {sexo['F']:.2f}% são do sexo Feminino, {sexo['M']:.2f}% do sexo Masculino e {sexo['I']:.2f}% Indefinido.\")\n"
   ]
  },
  {
   "cell_type": "code",
   "execution_count": 11,
   "id": "97d86eb4",
   "metadata": {},
   "outputs": [
    {
     "data": {
      "text/plain": [
       "MANAUS         52.441911\n",
       "PARINTINS       3.083459\n",
       "ITACOATIARA     2.949604\n",
       "MANACAPURU      2.448183\n",
       "TEFE            2.109666\n",
       "Name: paciente_endereco_nmMunicipio, dtype: float64"
      ]
     },
     "execution_count": 11,
     "metadata": {},
     "output_type": "execute_result"
    }
   ],
   "source": [
    "# Quantidade de aplicações de 1ª dose da vacina por Município, em porcentagem\n",
    "tt_munic = dados_2.paciente_endereco_nmMunicipio.value_counts()\n",
    "tt_pac = tt_munic.sum()\n",
    "porcent_munic = (tt_munic/tt_pac)*100\n",
    "porcent_munic.head()"
   ]
  },
  {
   "cell_type": "code",
   "execution_count": 12,
   "id": "97080139",
   "metadata": {},
   "outputs": [
    {
     "data": {
      "text/plain": [
       "Faixa Etária                                       74.78\n",
       "Povos e Comunidades Tradicionais                    6.71\n",
       "Comorbidades                                        5.44\n",
       "Trabalhadores de Saúde                              4.89\n",
       "Povos Indígenas                                     3.61\n",
       "Trabalhadores da Educação                           2.19\n",
       "Gestantes                                           0.51\n",
       "Forças de Segurança e Salvamento                    0.35\n",
       "Forças Armadas (membros ativos)                     0.32\n",
       "População Privada de Liberdade                      0.20\n",
       "Trabalhadores de Transporte                         0.19\n",
       "Pessoas com Deficiência                             0.18\n",
       "Outros                                              0.17\n",
       "Puérperas                                           0.15\n",
       "Trabalhadores Portuários                            0.12\n",
       "Pessoas de 60 anos ou mais institucionalizadas      0.05\n",
       "Trabalhadores de Limpeza Urbana                     0.05\n",
       "Funcionário do Sistema de Privação de Liberdade     0.05\n",
       "Trabalhadores Industriais                           0.04\n",
       "Pessoas em Situação de Rua                          0.01\n",
       "Name: vacina_categoria_nome, dtype: float64"
      ]
     },
     "execution_count": 12,
     "metadata": {},
     "output_type": "execute_result"
    }
   ],
   "source": [
    "# Quantidade total de aplicação da 1ª dose da vacina por população de risco, em porcentagem\n",
    "pop_risco = dados_2.vacina_categoria_nome.value_counts()\n",
    "tt_cat = pop_risco.sum()\n",
    "porcent_pop_risco = (pop_risco/tt_cat)*100\n",
    "porcent_pop_risco = round(porcent_pop_risco, 2)\n",
    "porcent_pop_risco"
   ]
  }
 ],
 "metadata": {
  "kernelspec": {
   "display_name": "Python 3 (ipykernel)",
   "language": "python",
   "name": "python3"
  },
  "language_info": {
   "codemirror_mode": {
    "name": "ipython",
    "version": 3
   },
   "file_extension": ".py",
   "mimetype": "text/x-python",
   "name": "python",
   "nbconvert_exporter": "python",
   "pygments_lexer": "ipython3",
   "version": "3.9.16"
  }
 },
 "nbformat": 4,
 "nbformat_minor": 5
}
