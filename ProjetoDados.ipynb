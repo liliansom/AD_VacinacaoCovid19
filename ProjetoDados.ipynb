{
 "cells": [
  {
   "cell_type": "markdown",
   "id": "aef97fab",
   "metadata": {},
   "source": [
    "# Importações"
   ]
  },
  {
   "cell_type": "code",
   "execution_count": 1,
   "id": "fb05c125",
   "metadata": {},
   "outputs": [],
   "source": [
    "# Importação das bibliotecas\n",
    "import pandas as pd\n",
    "import matplotlib"
   ]
  },
  {
   "cell_type": "code",
   "execution_count": 2,
   "id": "34d0bf51",
   "metadata": {},
   "outputs": [
    {
     "name": "stderr",
     "output_type": "stream",
     "text": [
      "C:\\Users\\Usuário\\AppData\\Local\\Temp\\ipykernel_1288\\3544363823.py:2: DtypeWarning: Columns (7,8) have mixed types. Specify dtype option on import or set low_memory=False.\n",
      "  dados = pd.read_csv(r'C:\\Users\\Usuário\\Documents\\GitHub\\Analise_Dados\\DadosVacinaAM.csv', sep=\";\")\n"
     ]
    }
   ],
   "source": [
    "# Importação do banco de dados CSV\n",
    "dados = pd.read_csv(r'C:\\Users\\Usuário\\Documents\\GitHub\\Analise_Dados\\DadosVacinaAM.csv', sep=\";\")"
   ]
  },
  {
   "cell_type": "code",
   "execution_count": 3,
   "id": "1af4e595",
   "metadata": {},
   "outputs": [
    {
     "name": "stdout",
     "output_type": "stream",
     "text": [
      "<class 'pandas.core.frame.DataFrame'>\n",
      "RangeIndex: 1708357 entries, 0 to 1708356\n",
      "Data columns (total 32 columns):\n",
      " #   Column                                    Dtype  \n",
      "---  ------                                    -----  \n",
      " 0   document_id                               object \n",
      " 1   paciente_id                               object \n",
      " 2   paciente_idade                            float64\n",
      " 3   paciente_dataNascimento                   object \n",
      " 4   paciente_enumSexoBiologico                object \n",
      " 5   paciente_racaCor_codigo                   float64\n",
      " 6   paciente_racaCor_valor                    object \n",
      " 7   paciente_endereco_coIbgeMunicipio         object \n",
      " 8   paciente_endereco_coPais                  object \n",
      " 9   paciente_endereco_nmMunicipio             object \n",
      " 10  paciente_endereco_nmPais                  object \n",
      " 11  paciente_endereco_uf                      object \n",
      " 12  paciente_endereco_cep                     object \n",
      " 13  paciente_nacionalidade_enumNacionalidade  object \n",
      " 14  estabelecimento_valor                     int64  \n",
      " 15  estabelecimento_razaoSocial               object \n",
      " 16  estalecimento_noFantasia                  object \n",
      " 17  estabelecimento_municipio_codigo          int64  \n",
      " 18  estabelecimento_municipio_nome            object \n",
      " 19  estabelecimento_uf                        object \n",
      " 20  vacina_grupoAtendimento_codigo            float64\n",
      " 21  vacina_grupoAtendimento_nome              object \n",
      " 22  vacina_categoria_codigo                   float64\n",
      " 23  vacina_categoria_nome                     object \n",
      " 24  vacina_lote                               object \n",
      " 25  vacina_fabricante_nome                    object \n",
      " 26  vacina_fabricante_referencia              object \n",
      " 27  vacina_dataAplicacao                      object \n",
      " 28  vacina_descricao_dose                     object \n",
      " 29  vacina_codigo                             int64  \n",
      " 30  vacina_nome                               object \n",
      " 31  sistema_origem                            object \n",
      "dtypes: float64(4), int64(3), object(25)\n",
      "memory usage: 417.1+ MB\n"
     ]
    }
   ],
   "source": [
    "# Listagem das colunas para consulta\n",
    "dados.info()\n"
   ]
  },
  {
   "cell_type": "code",
   "execution_count": 20,
   "id": "c6f2b6fe",
   "metadata": {},
   "outputs": [
    {
     "data": {
      "text/html": [
       "<div>\n",
       "<style scoped>\n",
       "    .dataframe tbody tr th:only-of-type {\n",
       "        vertical-align: middle;\n",
       "    }\n",
       "\n",
       "    .dataframe tbody tr th {\n",
       "        vertical-align: top;\n",
       "    }\n",
       "\n",
       "    .dataframe thead th {\n",
       "        text-align: right;\n",
       "    }\n",
       "</style>\n",
       "<table border=\"1\" class=\"dataframe\">\n",
       "  <thead>\n",
       "    <tr style=\"text-align: right;\">\n",
       "      <th></th>\n",
       "      <th>Fabricantes</th>\n",
       "      <th>Total de Vacinas</th>\n",
       "    </tr>\n",
       "  </thead>\n",
       "  <tbody>\n",
       "    <tr>\n",
       "      <th>0</th>\n",
       "      <td>PFIZER</td>\n",
       "      <td>675743</td>\n",
       "    </tr>\n",
       "    <tr>\n",
       "      <th>1</th>\n",
       "      <td>ASTRAZENECA/FIOCRUZ</td>\n",
       "      <td>599125</td>\n",
       "    </tr>\n",
       "    <tr>\n",
       "      <th>2</th>\n",
       "      <td>SINOVAC/BUTANTAN</td>\n",
       "      <td>330186</td>\n",
       "    </tr>\n",
       "    <tr>\n",
       "      <th>3</th>\n",
       "      <td>JANSSEN</td>\n",
       "      <td>42765</td>\n",
       "    </tr>\n",
       "    <tr>\n",
       "      <th>4</th>\n",
       "      <td>Pendente Identificação</td>\n",
       "      <td>19858</td>\n",
       "    </tr>\n",
       "    <tr>\n",
       "      <th>5</th>\n",
       "      <td>PFIZER - PEDIÁTRICA</td>\n",
       "      <td>15539</td>\n",
       "    </tr>\n",
       "    <tr>\n",
       "      <th>6</th>\n",
       "      <td>PFIZER - PEDI?TRICA</td>\n",
       "      <td>12134</td>\n",
       "    </tr>\n",
       "    <tr>\n",
       "      <th>7</th>\n",
       "      <td>ASTRAZENECA</td>\n",
       "      <td>4920</td>\n",
       "    </tr>\n",
       "    <tr>\n",
       "      <th>8</th>\n",
       "      <td>Pendente Identifica??o</td>\n",
       "      <td>3965</td>\n",
       "    </tr>\n",
       "    <tr>\n",
       "      <th>9</th>\n",
       "      <td>PFIZER - PEDIÁTRICA MENOR DE 5 ANOS</td>\n",
       "      <td>2524</td>\n",
       "    </tr>\n",
       "    <tr>\n",
       "      <th>10</th>\n",
       "      <td>SINOVAC</td>\n",
       "      <td>1593</td>\n",
       "    </tr>\n",
       "    <tr>\n",
       "      <th>11</th>\n",
       "      <td>PFIZER MANUFACTURING BELGIUM NV - BELGICA</td>\n",
       "      <td>4</td>\n",
       "    </tr>\n",
       "    <tr>\n",
       "      <th>12</th>\n",
       "      <td>FUNDACAO OSWALDO CRUZ</td>\n",
       "      <td>1</td>\n",
       "    </tr>\n",
       "  </tbody>\n",
       "</table>\n",
       "</div>"
      ],
      "text/plain": [
       "                                  Fabricantes  Total de Vacinas\n",
       "0                                      PFIZER            675743\n",
       "1                         ASTRAZENECA/FIOCRUZ            599125\n",
       "2                            SINOVAC/BUTANTAN            330186\n",
       "3                                     JANSSEN             42765\n",
       "4                      Pendente Identificação             19858\n",
       "5                         PFIZER - PEDIÁTRICA             15539\n",
       "6                         PFIZER - PEDI?TRICA             12134\n",
       "7                                 ASTRAZENECA              4920\n",
       "8                      Pendente Identifica??o              3965\n",
       "9         PFIZER - PEDIÁTRICA MENOR DE 5 ANOS              2524\n",
       "10                                    SINOVAC              1593\n",
       "11  PFIZER MANUFACTURING BELGIUM NV - BELGICA                 4\n",
       "12                      FUNDACAO OSWALDO CRUZ                 1"
      ]
     },
     "execution_count": 20,
     "metadata": {},
     "output_type": "execute_result"
    }
   ],
   "source": [
    "# Criação do dataframe de total de vacinas administradas por fabricantes.\n",
    "\n",
    "# Calcula a contagem de cada fabricante de vacinas (Total)\n",
    "dados_fab = pd.DataFrame(dados.vacina_fabricante_nome.value_counts())\n",
    "\n",
    "# Renomeia as colunas do DataFrame resultante\n",
    "dados_fab = dados_fab.rename(columns={'vacina_fabricante_nome': 'Total de Vacinas'})\n",
    "\n",
    "# Reseta o índice do DataFrame para criar uma coluna de fabricantes\n",
    "dados_fab = dados_fab.reset_index()\n",
    "\n",
    "# Renomeia a coluna recém-criada para 'Fabricantes'\n",
    "dados_fab = dados_fab.rename(columns={'index': 'Fabricantes'})\n",
    "dados_fab"
   ]
  },
  {
   "cell_type": "markdown",
   "id": "2c970ca6",
   "metadata": {},
   "source": [
    "# Tratamento dos dados"
   ]
  },
  {
   "cell_type": "code",
   "execution_count": 21,
   "id": "d240ecde",
   "metadata": {},
   "outputs": [
    {
     "data": {
      "text/html": [
       "<div>\n",
       "<style scoped>\n",
       "    .dataframe tbody tr th:only-of-type {\n",
       "        vertical-align: middle;\n",
       "    }\n",
       "\n",
       "    .dataframe tbody tr th {\n",
       "        vertical-align: top;\n",
       "    }\n",
       "\n",
       "    .dataframe thead th {\n",
       "        text-align: right;\n",
       "    }\n",
       "</style>\n",
       "<table border=\"1\" class=\"dataframe\">\n",
       "  <thead>\n",
       "    <tr style=\"text-align: right;\">\n",
       "      <th></th>\n",
       "      <th>Fabricantes</th>\n",
       "      <th>Total de Vacinas</th>\n",
       "    </tr>\n",
       "  </thead>\n",
       "  <tbody>\n",
       "    <tr>\n",
       "      <th>0</th>\n",
       "      <td>ASTRAZENECA</td>\n",
       "      <td>4920</td>\n",
       "    </tr>\n",
       "    <tr>\n",
       "      <th>1</th>\n",
       "      <td>ASTRAZENECA/FIOCRUZ</td>\n",
       "      <td>599125</td>\n",
       "    </tr>\n",
       "    <tr>\n",
       "      <th>2</th>\n",
       "      <td>FUNDACAO OSWALDO CRUZ</td>\n",
       "      <td>1</td>\n",
       "    </tr>\n",
       "    <tr>\n",
       "      <th>3</th>\n",
       "      <td>JANSSEN</td>\n",
       "      <td>42765</td>\n",
       "    </tr>\n",
       "    <tr>\n",
       "      <th>4</th>\n",
       "      <td>NÃO_IDENTIFICADO</td>\n",
       "      <td>23823</td>\n",
       "    </tr>\n",
       "    <tr>\n",
       "      <th>5</th>\n",
       "      <td>PFIZER</td>\n",
       "      <td>675747</td>\n",
       "    </tr>\n",
       "    <tr>\n",
       "      <th>6</th>\n",
       "      <td>PFIZER_PEDIÁTRICA</td>\n",
       "      <td>30197</td>\n",
       "    </tr>\n",
       "    <tr>\n",
       "      <th>7</th>\n",
       "      <td>SINOVAC</td>\n",
       "      <td>1593</td>\n",
       "    </tr>\n",
       "    <tr>\n",
       "      <th>8</th>\n",
       "      <td>SINOVAC/BUTANTAN</td>\n",
       "      <td>330186</td>\n",
       "    </tr>\n",
       "  </tbody>\n",
       "</table>\n",
       "</div>"
      ],
      "text/plain": [
       "             Fabricantes  Total de Vacinas\n",
       "0            ASTRAZENECA              4920\n",
       "1    ASTRAZENECA/FIOCRUZ            599125\n",
       "2  FUNDACAO OSWALDO CRUZ                 1\n",
       "3                JANSSEN             42765\n",
       "4       NÃO_IDENTIFICADO             23823\n",
       "5                 PFIZER            675747\n",
       "6      PFIZER_PEDIÁTRICA             30197\n",
       "7                SINOVAC              1593\n",
       "8       SINOVAC/BUTANTAN            330186"
      ]
     },
     "execution_count": 21,
     "metadata": {},
     "output_type": "execute_result"
    }
   ],
   "source": [
    "# Tratamento dos dados de fabricantes das vacinas\n",
    "\n",
    "# criar um dataframe com os dados fornecidos\n",
    "data = {'Fabricantes': ['PFIZER', 'ASTRAZENECA/FIOCRUZ', 'SINOVAC/BUTANTAN', 'JANSSEN', 'Pendente Identificação',\n",
    "                        'PFIZER - PEDIÁTRICA', 'PFIZER - PEDI?TRICA', 'ASTRAZENECA', 'Pendente Identifica??o',\n",
    "                        'PFIZER - PEDIÁTRICA MENOR DE 5 ANOS', 'SINOVAC', 'PFIZER MANUFACTURING BELGIUM NV - BELGICA',\n",
    "                        'FUNDACAO OSWALDO CRUZ'],\n",
    "        'Total de Vacinas': [675743, 599125, 330186, 42765, 19858, 15539, 12134, 4920, 3965, 2524, 1593, 4, 1]}\n",
    "df = pd.DataFrame(data)\n",
    "\n",
    "# criar um dicionário para agrupar as linhas que serão somadas\n",
    "dict_pfizer = {'PFIZER - PEDIÁTRICA': 'PFIZER_PEDIÁTRICA', 'PFIZER - PEDI?TRICA': 'PFIZER_PEDIÁTRICA', 'PFIZER - PEDIÁTRICA MENOR DE 5 ANOS': 'PFIZER_PEDIÁTRICA'}\n",
    "dict_pendente = {'Pendente Identificação': 'NÃO_IDENTIFICADO', 'Pendente Identifica??o': 'NÃO_IDENTIFICADO'}\n",
    "dict_pf = {'PFIZER MANUFACTURING BELGIUM NV - BELGICA': 'PFIZER'}\n",
    "\n",
    "# substituir os valores do dicionário no dataframe\n",
    "df = df.replace({'Fabricantes': dict_pfizer})\n",
    "df = df.replace({'Fabricantes': dict_pendente})\n",
    "df = df.replace({'Fabricantes': dict_pf})\n",
    "\n",
    "# agrupar as linhas e somar os valores das vacinas\n",
    "df_grouped = df.groupby(['Fabricantes'], as_index=False).sum()\n",
    "\n",
    "# exibir o dataframe agrupado\n",
    "df_grouped[['Fabricantes']].sort_values('Fabricantes', ascending=False)\n",
    "df_grouped\n"
   ]
  },
  {
   "cell_type": "code",
   "execution_count": 6,
   "id": "0752026d",
   "metadata": {
    "scrolled": true
   },
   "outputs": [
    {
     "name": "stderr",
     "output_type": "stream",
     "text": [
      "C:\\Users\\Usuário\\AppData\\Local\\Temp\\ipykernel_1288\\4176080866.py:11: SettingWithCopyWarning: \n",
      "A value is trying to be set on a copy of a slice from a DataFrame\n",
      "\n",
      "See the caveats in the documentation: https://pandas.pydata.org/pandas-docs/stable/user_guide/indexing.html#returning-a-view-versus-a-copy\n",
      "  dados_1.drop_duplicates(inplace=True)\n",
      "C:\\Users\\Usuário\\AppData\\Local\\Temp\\ipykernel_1288\\4176080866.py:12: SettingWithCopyWarning: \n",
      "A value is trying to be set on a copy of a slice from a DataFrame\n",
      "\n",
      "See the caveats in the documentation: https://pandas.pydata.org/pandas-docs/stable/user_guide/indexing.html#returning-a-view-versus-a-copy\n",
      "  dados_2.drop_duplicates(inplace=True)\n"
     ]
    }
   ],
   "source": [
    "# Seleção das colunas a serem analisadas neste projeto\n",
    "dados = dados.loc[:, ['paciente_idade','paciente_enumSexoBiologico','paciente_racaCor_valor','paciente_endereco_nmMunicipio','vacina_categoria_nome','vacina_fabricante_nome','vacina_dataAplicacao','vacina_descricao_dose']]\n",
    "\n",
    "# Filtro a partir da 1ª dose\n",
    "dados_1 = dados[dados['vacina_descricao_dose'] == '1ª Dose']\n",
    "\n",
    "# Filtro 2ª dose\n",
    "dados_2 = dados[dados['vacina_descricao_dose'] == '2ª Dose']\n",
    "\n",
    "# Retirando informações duplicadas\n",
    "dados_1.drop_duplicates(inplace=True)\n",
    "dados_2.drop_duplicates(inplace=True)\n",
    "\n",
    "ttt_idade = dados[dados['paciente_idade'] != 221.0]"
   ]
  },
  {
   "cell_type": "code",
   "execution_count": 7,
   "id": "3ebecf52",
   "metadata": {},
   "outputs": [
    {
     "data": {
      "text/plain": [
       "ASTRAZENECA/FIOCRUZ                    134695\n",
       "SINOVAC/BUTANTAN                       107080\n",
       "PFIZER                                  83881\n",
       "Pendente Identificação                   9837\n",
       "PFIZER - PEDIÁTRICA                      4940\n",
       "PFIZER - PEDI?TRICA                      4749\n",
       "ASTRAZENECA                              2981\n",
       "Pendente Identifica??o                   1689\n",
       "PFIZER - PEDIÁTRICA MENOR DE 5 ANOS      1665\n",
       "JANSSEN                                   525\n",
       "SINOVAC                                   431\n",
       "Name: vacina_fabricante_nome, dtype: int64"
      ]
     },
     "execution_count": 7,
     "metadata": {},
     "output_type": "execute_result"
    }
   ],
   "source": [
    "# Juntar nomes iguais de coluna vacina_fabricante_nome \n",
    "dados_1.vacina_fabricante_nome.value_counts()"
   ]
  },
  {
   "cell_type": "markdown",
   "id": "5d13822a",
   "metadata": {},
   "source": [
    "## Quem são as pessoas vacinadas com a 1ª dose (COVID-19) no estado do Amazonas?"
   ]
  },
  {
   "cell_type": "code",
   "execution_count": 8,
   "id": "e39fdf82",
   "metadata": {
    "scrolled": true
   },
   "outputs": [
    {
     "data": {
      "text/plain": [
       "<Axes: >"
      ]
     },
     "execution_count": 8,
     "metadata": {},
     "output_type": "execute_result"
    },
    {
     "data": {
      "image/png": "[encoded data removed]",
      "text/plain": [
       "<Figure size 640x480 with 1 Axes>"
      ]
     },
     "metadata": {},
     "output_type": "display_data"
    }
   ],
   "source": [
    "# Quantidade de aplicações de 1ª dose da vacina por Idade, em porcentagem\n",
    "idade = dados_1.paciente_idade.value_counts()\n",
    "tt_idade = idade.sum()\n",
    "porcent_idade = (idade/tt_idade)*100\n",
    "porcent_idade.plot(kind='bar')"
   ]
  },
  {
   "cell_type": "code",
   "execution_count": 9,
   "id": "47d33898",
   "metadata": {},
   "outputs": [
    {
     "data": {
      "text/plain": [
       "<Axes: title={'center': 'Vacinas 1ª dose por Raça, em porcentagem'}>"
      ]
     },
     "execution_count": 9,
     "metadata": {},
     "output_type": "execute_result"
    },
    {
     "data": {
      "image/png": "[encoded data removed]",
      "text/plain": [
       "<Figure size 640x480 with 1 Axes>"
      ]
     },
     "metadata": {},
     "output_type": "display_data"
    }
   ],
   "source": [
    "# Quantidade de aplicações de 1ª dose da vacina por Raça, em porcentagem\n",
    "raça = dados_1.paciente_racaCor_valor.value_counts(normalize=True)\n",
    "tt_raça = raça.sum()\n",
    "porcent_raça = (raça/tt_raça)*100\n",
    "porcent_raça.plot(kind='bar', title='Vacinas 1ª dose por Raça, em porcentagem', ylabel='')"
   ]
  },
  {
   "cell_type": "code",
   "execution_count": 10,
   "id": "0c3eaf5b",
   "metadata": {},
   "outputs": [
    {
     "data": {
      "text/plain": [
       "M    0.505692\n",
       "F    0.494303\n",
       "I    0.000006\n",
       "Name: paciente_enumSexoBiologico, dtype: float64"
      ]
     },
     "execution_count": 10,
     "metadata": {},
     "output_type": "execute_result"
    }
   ],
   "source": [
    "# Quantidade de aplicações de 1ª dose da vacina por sexo, em porcentagem\n",
    "sexo = dados_1.paciente_enumSexoBiologico.value_counts(normalize=True)\n",
    "sexo"
   ]
  },
  {
   "cell_type": "code",
   "execution_count": 11,
   "id": "10877fd3",
   "metadata": {},
   "outputs": [
    {
     "data": {
      "text/plain": [
       "MANAUS             29.804995\n",
       "ITACOATIARA         3.258836\n",
       "MANACAPURU          3.229713\n",
       "PARINTINS           2.921188\n",
       "COARI               2.791722\n",
       "                     ...    \n",
       "FERREIROS           0.000288\n",
       "LAPA                0.000288\n",
       "RIO FORMOSO         0.000288\n",
       "CORONEL VIVIDA      0.000288\n",
       "ANITA GARIBALDI     0.000288\n",
       "Name: paciente_endereco_nmMunicipio, Length: 2062, dtype: float64"
      ]
     },
     "execution_count": 11,
     "metadata": {},
     "output_type": "execute_result"
    }
   ],
   "source": [
    "# Quantidade de aplicações de 1ª dose da vacina por Município, em porcentagem\n",
    "tt_munic = dados_1.paciente_endereco_nmMunicipio.value_counts()\n",
    "tt_pac = tt_munic.sum()\n",
    "porcent_munic = (tt_munic/tt_pac)*100\n",
    "porcent_munic"
   ]
  },
  {
   "cell_type": "markdown",
   "id": "8c737813",
   "metadata": {},
   "source": [
    "## Problema\n",
    "Há diferença entre o perfil das pessoas que tomaram a segunda dose no Amazonas?\n",
    "Qual a distância média entre a casa e o local de aplicação?\n",
    " (contabilizar 1 dose e 2 doses e 3 doses)"
   ]
  },
  {
   "cell_type": "code",
   "execution_count": 12,
   "id": "03943ead",
   "metadata": {},
   "outputs": [
    {
     "data": {
      "text/plain": [
       "Faixa Etária                                       62.64\n",
       "Povos e Comunidades Tradicionais                   10.12\n",
       "Trabalhadores de Saúde                              7.47\n",
       "Povos Indígenas                                     6.44\n",
       "Comorbidades                                        5.46\n",
       "Trabalhadores da Educação                           2.99\n",
       "Gestantes                                           1.07\n",
       "Forças de Segurança e Salvamento                    0.67\n",
       "Forças Armadas (membros ativos)                     0.61\n",
       "Pessoas com Deficiência                             0.59\n",
       "Trabalhadores de Transporte                         0.46\n",
       "Puérperas                                           0.38\n",
       "População Privada de Liberdade                      0.27\n",
       "Trabalhadores Portuários                            0.22\n",
       "Outros                                              0.22\n",
       "Trabalhadores de Limpeza Urbana                     0.15\n",
       "Funcionário do Sistema de Privação de Liberdade     0.08\n",
       "Pessoas de 60 anos ou mais institucionalizadas      0.07\n",
       "Pessoas em Situação de Rua                          0.04\n",
       "Trabalhadores Industriais                           0.04\n",
       "Name: vacina_categoria_nome, dtype: float64"
      ]
     },
     "execution_count": 12,
     "metadata": {},
     "output_type": "execute_result"
    }
   ],
   "source": [
    "# Quantidade total de aplicação da 1ª dose da vacina por população de risco, em porcentagem\n",
    "pop_risco = dados_1.vacina_categoria_nome.value_counts()\n",
    "tt_cat = pop_risco.sum()\n",
    "porcent_pop_risco = (pop_risco/tt_cat)*100\n",
    "porcent_pop_risco = round(porcent_pop_risco, 2)\n",
    "porcent_pop_risco"
   ]
  },
  {
   "cell_type": "code",
   "execution_count": 13,
   "id": "d0c6f561",
   "metadata": {},
   "outputs": [
    {
     "data": {
      "text/plain": [
       "vacina_fabricante_nome\n",
       "SINOVAC/BUTANTAN          62.02\n",
       "ASTRAZENECA/FIOCRUZ       33.82\n",
       "PFIZER                     3.86\n",
       "ASTRAZENECA                0.26\n",
       "PFIZER - PEDI?TRICA        0.02\n",
       "JANSSEN                    0.01\n",
       "Pendente Identificação     0.01\n",
       "Name: vacina_fabricante_nome, dtype: float64"
      ]
     },
     "execution_count": 13,
     "metadata": {},
     "output_type": "execute_result"
    }
   ],
   "source": [
    "# Fabricante de vacina por população de risco (trabalhadores da saúde) 1ª dose\n",
    "pop_risco = dados_1[(dados_1['vacina_categoria_nome'] != 'Faixa Etária')]\n",
    "grupo_pop_risco = pop_risco.groupby('vacina_categoria_nome')['vacina_fabricante_nome'].value_counts()\n",
    "grupo_trab = grupo_pop_risco['Trabalhadores de Saúde']\n",
    "tt_trab = grupo_pop_risco['Trabalhadores de Saúde'].sum()\n",
    "porcent_trab = (grupo_trab/tt_trab)*100\n",
    "porcent_trab = round(porcent_trab, 2)\n",
    "porcent_trab"
   ]
  },
  {
   "cell_type": "code",
   "execution_count": 14,
   "id": "2849f221",
   "metadata": {},
   "outputs": [
    {
     "data": {
      "text/plain": [
       "vacina_fabricante_nome\n",
       "ASTRAZENECA/FIOCRUZ                    43.46\n",
       "SINOVAC/BUTANTAN                       41.54\n",
       "PFIZER                                 11.47\n",
       "ASTRAZENECA                             2.31\n",
       "Pendente Identificação                  0.54\n",
       "Pendente Identifica??o                  0.46\n",
       "PFIZER - PEDI?TRICA                     0.10\n",
       "PFIZER - PEDIÁTRICA MENOR DE 5 ANOS     0.05\n",
       "PFIZER - PEDIÁTRICA                     0.05\n",
       "JANSSEN                                 0.02\n",
       "SINOVAC                                 0.01\n",
       "Name: vacina_fabricante_nome, dtype: float64"
      ]
     },
     "execution_count": 14,
     "metadata": {},
     "output_type": "execute_result"
    }
   ],
   "source": [
    "# Fabricante de vacina por população de risco (comorbidades) 1ª dose\n",
    "pop_risco = dados_1[(dados_1['vacina_categoria_nome'] != 'Faixa Etária')]\n",
    "grupo_pop_risco = pop_risco.groupby('vacina_categoria_nome')['vacina_fabricante_nome'].value_counts()\n",
    "grupo_comorb = grupo_pop_risco['Comorbidades']\n",
    "tt_comorb = grupo_pop_risco['Comorbidades'].sum()\n",
    "porcent_comorb = (grupo_comorb/tt_comorb)*100\n",
    "porcent_comorb = round(porcent_comorb, 2)\n",
    "porcent_comorb"
   ]
  },
  {
   "cell_type": "code",
   "execution_count": 15,
   "id": "9384e21c",
   "metadata": {},
   "outputs": [
    {
     "name": "stderr",
     "output_type": "stream",
     "text": [
      "C:\\Users\\Usuário\\AppData\\Local\\Temp\\ipykernel_1288\\3056700026.py:2: SettingWithCopyWarning: \n",
      "A value is trying to be set on a copy of a slice from a DataFrame.\n",
      "Try using .loc[row_indexer,col_indexer] = value instead\n",
      "\n",
      "See the caveats in the documentation: https://pandas.pydata.org/pandas-docs/stable/user_guide/indexing.html#returning-a-view-versus-a-copy\n",
      "  dados_1['vacina_dataAplicacao'] = pd.to_datetime(dados_1['vacina_dataAplicacao'], format='%Y-%m-%d')\n"
     ]
    }
   ],
   "source": [
    "# Verificar primeira data de aplicação de vacina e apresentar as populações vacinadas\n",
    "dados_1['vacina_dataAplicacao'] = pd.to_datetime(dados_1['vacina_dataAplicacao'], format='%Y-%m-%d')\n",
    "dados_ord = dados_1.groupby(['vacina_dataAplicacao', 'vacina_categoria_nome']).size().reset_index(name='count')\n",
    "dados_ord = dados_ord.sort_values(by='vacina_dataAplicacao')"
   ]
  },
  {
   "cell_type": "code",
   "execution_count": null,
   "id": "86c022e2",
   "metadata": {},
   "outputs": [],
   "source": []
  },
  {
   "cell_type": "code",
   "execution_count": null,
   "id": "8bbeb1be",
   "metadata": {},
   "outputs": [],
   "source": []
  }
 ],
 "metadata": {
  "kernelspec": {
   "display_name": "Python 3 (ipykernel)",
   "language": "python",
   "name": "python3"
  },
  "language_info": {
   "codemirror_mode": {
    "name": "ipython",
    "version": 3
   },
   "file_extension": ".py",
   "mimetype": "text/x-python",
   "name": "python",
   "nbconvert_exporter": "python",
   "pygments_lexer": "ipython3",
   "version": "3.9.16"
  }
 },
 "nbformat": 4,
 "nbformat_minor": 5
}
